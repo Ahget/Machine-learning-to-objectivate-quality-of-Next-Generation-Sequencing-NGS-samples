{
 "cells": [
  {
   "cell_type": "markdown",
   "metadata": {},
   "source": [
    "Entrainement des modèles qui serviront à l'analyse de nouvelles données (nouveau cas/nouveau NGS). Entraînement fait sur l'ensemble des données disponibles."
   ]
  },
  {
   "cell_type": "code",
   "execution_count": 1,
   "metadata": {},
   "outputs": [],
   "source": [
    "import os \n",
    "import pandas as pd\n",
    "import numpy as np"
   ]
  },
  {
   "cell_type": "code",
   "execution_count": 2,
   "metadata": {},
   "outputs": [],
   "source": [
    "# all file paths\n",
    "from glob import glob\n",
    "paths = glob(r\"C:\\Users\\ahmed\\MFE project\\Final\\**\", recursive= True)\n",
    "\n",
    "pathy = [i for i in paths if (len(i)>=120) & (i[-3:]!=\"pdf\")]\n",
    "pathy_amplicon = [i for i in pathy if i[-16:-8]==\"amplicon\"]\n",
    "\n",
    "pathys = [i for i in paths if (i[-3:]!=\"pdf\") & (len(i)>60) & (i.find(\"bcmatrix\")<0)]\n",
    "pathy_tsv = [i for i in pathys if i[-3:]==\"tsv\"]"
   ]
  },
  {
   "cell_type": "code",
   "execution_count": 3,
   "metadata": {},
   "outputs": [],
   "source": [
    "#préparation du tsv\n",
    "\n",
    "def extract_info_tsv(path):\n",
    "    split = path.split('\\\\')\n",
    "    annee = split[5]\n",
    "    sp = split[6]\n",
    "    spi = sp.replace('_', '-')\n",
    "    spl = spi.split('-')\n",
    "    type = 0\n",
    "    date = 0\n",
    "    num = 0\n",
    "    if len(spl)==5:\n",
    "        type = spl[0]\n",
    "        date = '-'.join(spl[1:-1])\n",
    "        num = spl[-1]\n",
    "    if len(spl)==6:\n",
    "        type = spl[0]\n",
    "        date = spl[2]\n",
    "        num = spl[-1]\n",
    "    classe = split[7]\n",
    "    return [annee, type, date, num, classe]\n",
    "\n",
    "def create_TSV(pathy_tsv):\n",
    "    caract = [\"annee\", \"type\", \"date\", \"num\", \"classe\"]\n",
    "    df_list=[]\n",
    "    for j in range(len(pathy_tsv)):\n",
    "        path = pathy_tsv[j]\n",
    "        dfa = pd.read_csv(path, sep='\\t')\n",
    "        if str(dfa[\"Barcode\"][0])!=\"nan\":\n",
    "            df1 = dfa[dfa[\"Barcode\"]==dfa[\"Barcode\"][0]]\n",
    "            df1.index = range(len(df1))\n",
    "            cara = extract_info_tsv(path)\n",
    "            for i in range(len(caract)):\n",
    "                df1.loc[:,caract[i]]= cara[i]\n",
    "            df1.loc[:,'ordre'] = j\n",
    "            df1.loc[:,\"longueur\"] = len(df1)\n",
    "            df_list.append(df1)\n",
    "    df_tsv = pd.concat(df_list)\n",
    "    df_tsv.index = range(len(df_tsv))\n",
    "    df_tsv = df_tsv.replace(\"NAV\", \"NVA\")\n",
    "    df_tsv = df_tsv.replace(\"nva\", \"NVA\")\n",
    "    return df_tsv.fillna(0)\n",
    "    \n",
    "    #preparation du amplicon\n",
    "def extract_info_amplicon(path):\n",
    "    split = path.split('\\\\')\n",
    "    annee = split[5]\n",
    "    sp = split[6]\n",
    "    spi = sp.replace('_', '-')\n",
    "    spl = spi.split('-')\n",
    "    type = 0\n",
    "    date = 0\n",
    "    num = 0\n",
    "    if len(spl)==5:\n",
    "        type = spl[0]\n",
    "        date = '-'.join(spl[1:-1])\n",
    "        num = spl[-1]\n",
    "    if len(spl)==6:\n",
    "        type = spl[0]\n",
    "        date = spl[2]\n",
    "        num = spl[-1]\n",
    "    classe = split[7]\n",
    "    num2 = split[-1].split('_')[1]\n",
    "    num3 = split[-1].split('_')[-1][:-17]\n",
    "    return [annee, type, date, num, classe, num2, num3]\n",
    "\n",
    "def create_amplicon(pathy_amplicon):\n",
    "    caract = [\"annee\", \"type\", \"date\", \"num\", \"classe\", \"num2\", \"num3\"]\n",
    "    df_list=[]\n",
    "    for j in range(len(pathy_amplicon)):\n",
    "        path = pathy_amplicon[j]\n",
    "        df1 = pd.read_csv(path, sep='\\t')\n",
    "        cara = extract_info_amplicon(path)\n",
    "        for i in range(len(caract)):\n",
    "            df1.loc[:,caract[i]]= cara[i]\n",
    "        df1.loc[:,'ordre'] = j\n",
    "        df1.loc[:, \"longueur\"] = len(df1)\n",
    "        df_list.append(df1)\n",
    "    df_amplicon = pd.concat(df_list)\n",
    "    df_amplicon.index = range(len(df_amplicon))\n",
    "    df_amplicon = df_amplicon.replace(\"NAV\", \"NVA\")\n",
    "    df_amplicon = df_amplicon.replace(\"nva\", \"NVA\")\n",
    "    df_amplicon.loc[:, \"contig_length\"] = df_amplicon[\"contig_end\"] - df_amplicon[\"contig_srt\"]+1\n",
    "    df_amplicon.loc[:, \"gc_percent\"] = df_amplicon[\"gc_count\"]/df_amplicon[\"contig_length\"]\n",
    "    df_amplicon.loc[:, \"cov20_percent\"] = df_amplicon[\"cov20x\"]/df_amplicon[\"contig_length\"]\n",
    "    df_amplicon.loc[:, \"cov100_percent\"] = df_amplicon[\"cov100x\"]/df_amplicon[\"contig_length\"]\n",
    "    df_amplicon.loc[:, \"cov500_percent\"] = df_amplicon[\"cov500x\"]/df_amplicon[\"contig_length\"]\n",
    "    df_amplicon.loc[:, \"fwd_e2e_percent\"] = df_amplicon[\"fwd_e2e\"]/df_amplicon[\"fwd_reads\"]\n",
    "    df_amplicon.loc[:, \"rev_e2e_percent\"] = df_amplicon[\"rev_e2e\"]/df_amplicon[\"rev_reads\"]\n",
    "    return df_amplicon.fillna(0)"
   ]
  },
  {
   "cell_type": "code",
   "execution_count": 4,
   "metadata": {},
   "outputs": [
    {
     "name": "stderr",
     "output_type": "stream",
     "text": [
      "C:\\Users\\ahmed\\anaconda3\\envs\\myenv\\lib\\site-packages\\pandas\\core\\indexing.py:1667: SettingWithCopyWarning: \n",
      "A value is trying to be set on a copy of a slice from a DataFrame.\n",
      "Try using .loc[row_indexer,col_indexer] = value instead\n",
      "\n",
      "See the caveats in the documentation: https://pandas.pydata.org/pandas-docs/stable/user_guide/indexing.html#returning-a-view-versus-a-copy\n",
      "  self.obj[key] = value\n"
     ]
    }
   ],
   "source": [
    "DF_tsv = create_TSV(pathy_tsv)\n",
    "DF_amplicon = create_amplicon(pathy_amplicon)"
   ]
  },
  {
   "cell_type": "code",
   "execution_count": 5,
   "metadata": {},
   "outputs": [],
   "source": [
    "#normaliser le train puis l'appliquer au test\n",
    "from sklearn.preprocessing import MinMaxScaler\n",
    "scaler = MinMaxScaler()\n",
    "DF_tsv_norm = scaler.fit_transform(DF_tsv[[\"Frequency\", \"Quality\", \"Coverage\", \"Allele Cov\", \"longueur\"]])\n",
    "DF_tsv_norm = pd.concat([DF_tsv, pd.DataFrame(DF_tsv_norm, columns = [\"Frequency_norm\", \"Quality_norm\", \"Coverage_norm\", \"Allele Cov_norm\", \"longueur_norm\"])], axis = 1)\n",
    "\n",
    "from sklearn.tree import DecisionTreeClassifier\n",
    "DT =DecisionTreeClassifier(min_samples_leaf=17,max_depth= 10, min_samples_split= 9)\n",
    "\n",
    "train_2class = DF_amplicon[(DF_amplicon[\"classe\"]==\"OPT\")|(DF_amplicon[\"classe\"]==\"NC\")]\n",
    "New_var1 = ['gc_percent', 'cov500_percent', 'fwd_e2e_percent', 'rev_e2e_percent', 'cov20_percent', 'cov100_percent', 'contig_length']\n",
    "DT.fit(train_2class[New_var1], train_2class[\"classe\"])\n",
    "pred = DT.predict(DF_amplicon[New_var1])\n",
    "DF_amplicon.loc[:,\"Pred2class\"]=pred\n",
    "\n",
    "from joblib import dump, load\n",
    "# dump(scaler, \"Scaler_final_erasme.joblib\")\n",
    "# dump(DT, \"DT_final_erasme.joblib\")"
   ]
  },
  {
   "cell_type": "code",
   "execution_count": 6,
   "metadata": {},
   "outputs": [],
   "source": [
    "# des fonctions pour extraire les variables globales\n",
    "def Extract_glob_feat(df, feat, longueur):\n",
    "    nume = []\n",
    "    nume.append(np.array([1 for i in df[feat].values if i>0.3]).sum()/longueur)\n",
    "    nume.append(np.array([1 for i in df[feat].values if i>0.5]).sum()/longueur)\n",
    "    nume.append(np.array([1 for i in df[feat].values if i>0.7]).sum()/longueur)\n",
    "    nume.append(np.array([1 for i in df[feat].values if i>0.9]).sum()/longueur)\n",
    "    df_res = pd.DataFrame(data = [[df[feat].mean(), df[feat].median(), nume[0], nume[1], nume[2], nume[3]]] , columns = [feat+\"_mean\", feat+\"_median\", feat+\"_\"+str(0.3), feat+\"_\"+str(0.5), feat+\"_\"+str(0.7), feat+\"_\"+str(0.9)])\n",
    "    return df_res\n",
    "    \n",
    "def extract_all_var(df, variables, longueur):\n",
    "    list_df = []\n",
    "    for feat in variables:\n",
    "        df_t = Extract_glob_feat(df, feat, longueur)\n",
    "        list_df.append(df_t)\n",
    "    df_tot = pd.concat(list_df, axis = 1)\n",
    "    return df_tot\n",
    "\n",
    "def create_var_glob_amplicon(df_amp):\n",
    "    var_percent = ['gc_percent', 'cov20_percent', 'cov100_percent', 'cov500_percent', 'fwd_e2e_percent', 'rev_e2e_percent']\n",
    "    ordr = list(dict.fromkeys(df_amp[\"ordre\"].values))\n",
    "    resultat = []\n",
    "\n",
    "    for i in ordr:\n",
    "        df_tru = df_amp[df_amp[\"ordre\"]==i]\n",
    "        longueur = df_tru[\"longueur\"].values[0]\n",
    "    # information des variables en pourcent\n",
    "        df_var = extract_all_var(df_tru, var_percent, longueur)\n",
    "\n",
    "    # information sur la classe\n",
    "        df_var.loc[:,\"ordre\"] = i\n",
    "        df_var.loc[:, \"type\"] = df_tru[\"type\"].values[0]\n",
    "        df_var.loc[:, \"date\"] = df_tru[\"date\"].values[0]\n",
    "        df_var.loc[:, \"classe\"] = df_tru[\"classe\"].values[0]\n",
    "        df_var.loc[:, \"num2\"] = df_tru[\"num2\"].values[0]\n",
    "        df_var.loc[:, \"longueur\"] = longueur\n",
    "\n",
    "    # varible globale % de OPT\n",
    "        OPT = np.array([1 for i in range(len(df_tru)) if df_tru[\"Pred2class\"].values[i]==\"OPT\"]).sum()\n",
    "        OPT_percent = OPT/longueur\n",
    "\n",
    "        df_var.loc[:, \"OPT_percent\"] = OPT_percent\n",
    "\n",
    "    # création de la base de données / CSV\n",
    "        resultat.append(df_var)\n",
    "    df_resul = pd.concat(resultat)\n",
    "    df_resul.index = range(len(df_resul))\n",
    "    return df_resul\n",
    "\n",
    "def create_var_glob_tsv(df_tsv):\n",
    "    var_percent = ['Frequency_norm', 'Quality_norm', 'Coverage_norm', 'Allele Cov_norm', 'longueur_norm']\n",
    "    ordr = list(dict.fromkeys(df_tsv[\"ordre\"].values))\n",
    "    resultat = []\n",
    "\n",
    "    for i in ordr:\n",
    "        df_tru = df_tsv[df_tsv[\"ordre\"]==i]\n",
    "        longueur = df_tru[\"longueur\"].values[0]\n",
    "# information des variables en pourcent\n",
    "        df_var = extract_all_var(df_tru, var_percent, longueur)\n",
    "\n",
    "# création de la base de données / CSV\n",
    "        resultat.append(df_var)\n",
    "    df_resul = pd.concat(resultat)\n",
    "    df_resul.index = range(len(df_resul))\n",
    "    return df_resul\n",
    "\n",
    "def create_var_glob_tot(df_amp, df_tsv):\n",
    "    df_amp_glob = create_var_glob_amplicon(df_amp)\n",
    "    df_tsv_glob = create_var_glob_tsv(df_tsv)\n",
    "    df_global = pd.concat([df_amp_glob, df_tsv_glob], axis = 1)\n",
    "    return df_global"
   ]
  },
  {
   "cell_type": "code",
   "execution_count": 14,
   "metadata": {},
   "outputs": [],
   "source": [
    "# DF_tsv_norm = pd.concat([DF_tsv, pd.DataFrame(DF_tsv_norm, columns = [\"Frequency_norm\", \"Quality_norm\", \"Coverage_norm\", \"Allele Cov_norm\", \"longueur_norm\"])], axis = 1)"
   ]
  },
  {
   "cell_type": "code",
   "execution_count": 7,
   "metadata": {},
   "outputs": [],
   "source": [
    "df = create_var_glob_tot(DF_amplicon, DF_tsv_norm)"
   ]
  },
  {
   "cell_type": "code",
   "execution_count": 9,
   "metadata": {},
   "outputs": [
    {
     "data": {
      "text/plain": [
       "<AxesSubplot:xlabel='classe', ylabel='Quality_norm_median'>"
      ]
     },
     "execution_count": 9,
     "metadata": {},
     "output_type": "execute_result"
    },
    {
     "data": {
      "image/png": "[encoded data removed]",
      "text/plain": [
       "<Figure size 432x288 with 1 Axes>"
      ]
     },
     "metadata": {
      "needs_background": "light"
     },
     "output_type": "display_data"
    }
   ],
   "source": [
    "import seaborn as sns\n",
    "sns.boxplot(data=df, y=\"Quality_norm_median\", x=\"classe\")"
   ]
  },
  {
   "cell_type": "code",
   "execution_count": 16,
   "metadata": {},
   "outputs": [],
   "source": [
    "features = ['gc_percent_mean', 'gc_percent_median',\n",
    "       'gc_percent_0.3', 'gc_percent_0.5', 'gc_percent_0.7', 'gc_percent_0.9',\n",
    "       'cov20_percent_mean', 'cov20_percent_median', 'cov20_percent_0.3',\n",
    "       'cov20_percent_0.5', 'cov20_percent_0.7', 'cov20_percent_0.9',\n",
    "       'cov100_percent_mean', 'cov100_percent_median', 'cov100_percent_0.3',\n",
    "       'cov100_percent_0.5', 'cov100_percent_0.7', 'cov100_percent_0.9',\n",
    "       'cov500_percent_mean', 'cov500_percent_median', 'cov500_percent_0.3',\n",
    "       'cov500_percent_0.5', 'cov500_percent_0.7', 'cov500_percent_0.9',\n",
    "       'fwd_e2e_percent_mean', 'fwd_e2e_percent_median', 'fwd_e2e_percent_0.3',\n",
    "       'fwd_e2e_percent_0.5', 'fwd_e2e_percent_0.7', 'fwd_e2e_percent_0.9',\n",
    "       'rev_e2e_percent_mean', 'rev_e2e_percent_median', 'rev_e2e_percent_0.3',\n",
    "       'rev_e2e_percent_0.5', 'rev_e2e_percent_0.7', 'rev_e2e_percent_0.9', 'longueur', 'OPT_percent',\n",
    "       'Frequency_norm_mean', 'Frequency_norm_median', 'Frequency_norm_0.3',\n",
    "       'Frequency_norm_0.5', 'Frequency_norm_0.7', 'Frequency_norm_0.9',\n",
    "       'Quality_norm_mean', 'Quality_norm_median', 'Quality_norm_0.3',\n",
    "       'Quality_norm_0.5', 'Quality_norm_0.7', 'Quality_norm_0.9',\n",
    "       'Coverage_norm_mean', 'Coverage_norm_median', 'Coverage_norm_0.3',\n",
    "       'Coverage_norm_0.5', 'Coverage_norm_0.7', 'Coverage_norm_0.9',\n",
    "       'Allele Cov_norm_mean', 'Allele Cov_norm_median', 'Allele Cov_norm_0.3',\n",
    "       'Allele Cov_norm_0.5', 'Allele Cov_norm_0.7', 'Allele Cov_norm_0.9',\n",
    "       'longueur_norm_mean', 'longueur_norm_median', 'longueur_norm_0.3',\n",
    "       'longueur_norm_0.5', 'longueur_norm_0.7', 'longueur_norm_0.9']"
   ]
  },
  {
   "cell_type": "code",
   "execution_count": 19,
   "metadata": {},
   "outputs": [
    {
     "data": {
      "text/plain": [
       "['RF_final_erasme.joblib']"
      ]
     },
     "execution_count": 19,
     "metadata": {},
     "output_type": "execute_result"
    }
   ],
   "source": [
    "from sklearn.ensemble import RandomForestClassifier\n",
    "RF = RandomForestClassifier(n_estimators= 50)\n",
    "\n",
    "RF.fit(df[features], df[\"classe\"])\n",
    "\n",
    "# dump(RF, \"RF_final_erasme.joblib\")"
   ]
  }
 ],
 "metadata": {
  "interpreter": {
   "hash": "ae0c165457b802f0b012063a7cdde1edfba027a28a70c7da628e688424df5479"
  },
  "kernelspec": {
   "display_name": "Python 3.7.11 ('myenv')",
   "language": "python",
   "name": "python3"
  },
  "language_info": {
   "codemirror_mode": {
    "name": "ipython",
    "version": 3
   },
   "file_extension": ".py",
   "mimetype": "text/x-python",
   "name": "python",
   "nbconvert_exporter": "python",
   "pygments_lexer": "ipython3",
   "version": "3.7.11"
  },
  "orig_nbformat": 4
 },
 "nbformat": 4,
 "nbformat_minor": 2
}
