{
 "cells": [
  {
   "cell_type": "markdown",
   "metadata": {},
   "source": [
    "Ce script a servi à l'analyse de la variable OPT_percent, initialement créée à partir de l'algorithme random forest."
   ]
  },
  {
   "cell_type": "code",
   "execution_count": 1,
   "metadata": {},
   "outputs": [],
   "source": [
    "import os \n",
    "import pandas as pd\n",
    "import numpy as np\n",
    "import matplotlib.pyplot as plt\n",
    "import seaborn as sns\n",
    "from seaborn_qqplot import pplot\n",
    "import scipy as sp\n",
    "import sklearn.cluster\n",
    "import tqdm\n",
    "from scipy.stats import zscore, kstest, kruskal"
   ]
  },
  {
   "cell_type": "code",
   "execution_count": 2,
   "metadata": {},
   "outputs": [],
   "source": [
    "path = r\"C:\\Users\\ahmed\\MFE project\"    \n",
    "df = pd.read_csv(os.path.join(path, [i for i in os.listdir(path) if i.find(\"results_global_Random\")>-1][0]))"
   ]
  },
  {
   "cell_type": "code",
   "execution_count": 3,
   "metadata": {},
   "outputs": [
    {
     "data": {
      "text/html": [
       "<div>\n",
       "<style scoped>\n",
       "    .dataframe tbody tr th:only-of-type {\n",
       "        vertical-align: middle;\n",
       "    }\n",
       "\n",
       "    .dataframe tbody tr th {\n",
       "        vertical-align: top;\n",
       "    }\n",
       "\n",
       "    .dataframe thead th {\n",
       "        text-align: right;\n",
       "    }\n",
       "</style>\n",
       "<table border=\"1\" class=\"dataframe\">\n",
       "  <thead>\n",
       "    <tr style=\"text-align: right;\">\n",
       "      <th></th>\n",
       "      <th>Unnamed: 0</th>\n",
       "      <th>ordre</th>\n",
       "      <th>classe</th>\n",
       "      <th>longueur</th>\n",
       "      <th>OPT</th>\n",
       "      <th>NC</th>\n",
       "      <th>OPT_percent</th>\n",
       "      <th>NC_percent</th>\n",
       "    </tr>\n",
       "  </thead>\n",
       "  <tbody>\n",
       "    <tr>\n",
       "      <th>0</th>\n",
       "      <td>0</td>\n",
       "      <td>3</td>\n",
       "      <td>NC</td>\n",
       "      <td>118</td>\n",
       "      <td>11</td>\n",
       "      <td>107</td>\n",
       "      <td>0.093220</td>\n",
       "      <td>0.906780</td>\n",
       "    </tr>\n",
       "    <tr>\n",
       "      <th>1</th>\n",
       "      <td>0</td>\n",
       "      <td>328</td>\n",
       "      <td>SOPT</td>\n",
       "      <td>118</td>\n",
       "      <td>68</td>\n",
       "      <td>50</td>\n",
       "      <td>0.576271</td>\n",
       "      <td>0.423729</td>\n",
       "    </tr>\n",
       "    <tr>\n",
       "      <th>2</th>\n",
       "      <td>0</td>\n",
       "      <td>543</td>\n",
       "      <td>NVA</td>\n",
       "      <td>207</td>\n",
       "      <td>203</td>\n",
       "      <td>4</td>\n",
       "      <td>0.980676</td>\n",
       "      <td>0.019324</td>\n",
       "    </tr>\n",
       "    <tr>\n",
       "      <th>3</th>\n",
       "      <td>0</td>\n",
       "      <td>333</td>\n",
       "      <td>SOPT</td>\n",
       "      <td>207</td>\n",
       "      <td>70</td>\n",
       "      <td>137</td>\n",
       "      <td>0.338164</td>\n",
       "      <td>0.661836</td>\n",
       "    </tr>\n",
       "    <tr>\n",
       "      <th>4</th>\n",
       "      <td>0</td>\n",
       "      <td>57</td>\n",
       "      <td>OPT</td>\n",
       "      <td>207</td>\n",
       "      <td>202</td>\n",
       "      <td>5</td>\n",
       "      <td>0.975845</td>\n",
       "      <td>0.024155</td>\n",
       "    </tr>\n",
       "    <tr>\n",
       "      <th>...</th>\n",
       "      <td>...</td>\n",
       "      <td>...</td>\n",
       "      <td>...</td>\n",
       "      <td>...</td>\n",
       "      <td>...</td>\n",
       "      <td>...</td>\n",
       "      <td>...</td>\n",
       "      <td>...</td>\n",
       "    </tr>\n",
       "    <tr>\n",
       "      <th>182</th>\n",
       "      <td>0</td>\n",
       "      <td>251</td>\n",
       "      <td>NVA</td>\n",
       "      <td>207</td>\n",
       "      <td>197</td>\n",
       "      <td>10</td>\n",
       "      <td>0.951691</td>\n",
       "      <td>0.048309</td>\n",
       "    </tr>\n",
       "    <tr>\n",
       "      <th>183</th>\n",
       "      <td>0</td>\n",
       "      <td>263</td>\n",
       "      <td>SOPT</td>\n",
       "      <td>118</td>\n",
       "      <td>91</td>\n",
       "      <td>27</td>\n",
       "      <td>0.771186</td>\n",
       "      <td>0.228814</td>\n",
       "    </tr>\n",
       "    <tr>\n",
       "      <th>184</th>\n",
       "      <td>0</td>\n",
       "      <td>268</td>\n",
       "      <td>OPT</td>\n",
       "      <td>109</td>\n",
       "      <td>106</td>\n",
       "      <td>3</td>\n",
       "      <td>0.972477</td>\n",
       "      <td>0.027523</td>\n",
       "    </tr>\n",
       "    <tr>\n",
       "      <th>185</th>\n",
       "      <td>0</td>\n",
       "      <td>269</td>\n",
       "      <td>OPT</td>\n",
       "      <td>118</td>\n",
       "      <td>108</td>\n",
       "      <td>10</td>\n",
       "      <td>0.915254</td>\n",
       "      <td>0.084746</td>\n",
       "    </tr>\n",
       "    <tr>\n",
       "      <th>186</th>\n",
       "      <td>0</td>\n",
       "      <td>270</td>\n",
       "      <td>OPT</td>\n",
       "      <td>118</td>\n",
       "      <td>115</td>\n",
       "      <td>3</td>\n",
       "      <td>0.974576</td>\n",
       "      <td>0.025424</td>\n",
       "    </tr>\n",
       "  </tbody>\n",
       "</table>\n",
       "<p>187 rows × 8 columns</p>\n",
       "</div>"
      ],
      "text/plain": [
       "     Unnamed: 0  ordre classe  longueur  OPT   NC  OPT_percent  NC_percent\n",
       "0             0      3     NC       118   11  107     0.093220    0.906780\n",
       "1             0    328   SOPT       118   68   50     0.576271    0.423729\n",
       "2             0    543    NVA       207  203    4     0.980676    0.019324\n",
       "3             0    333   SOPT       207   70  137     0.338164    0.661836\n",
       "4             0     57    OPT       207  202    5     0.975845    0.024155\n",
       "..          ...    ...    ...       ...  ...  ...          ...         ...\n",
       "182           0    251    NVA       207  197   10     0.951691    0.048309\n",
       "183           0    263   SOPT       118   91   27     0.771186    0.228814\n",
       "184           0    268    OPT       109  106    3     0.972477    0.027523\n",
       "185           0    269    OPT       118  108   10     0.915254    0.084746\n",
       "186           0    270    OPT       118  115    3     0.974576    0.025424\n",
       "\n",
       "[187 rows x 8 columns]"
      ]
     },
     "execution_count": 3,
     "metadata": {},
     "output_type": "execute_result"
    }
   ],
   "source": [
    "df"
   ]
  },
  {
   "cell_type": "code",
   "execution_count": 9,
   "metadata": {},
   "outputs": [
    {
     "data": {
      "text/plain": [
       "count    27.000000\n",
       "mean      0.090954\n",
       "std       0.145051\n",
       "min       0.000000\n",
       "25%       0.000000\n",
       "50%       0.019324\n",
       "75%       0.084654\n",
       "max       0.459184\n",
       "Name: OPT_percent, dtype: float64"
      ]
     },
     "execution_count": 9,
     "metadata": {},
     "output_type": "execute_result"
    }
   ],
   "source": [
    "df[df[\"classe\"]==\"NC\"][\"OPT_percent\"].describe()"
   ]
  },
  {
   "cell_type": "code",
   "execution_count": 10,
   "metadata": {},
   "outputs": [
    {
     "data": {
      "text/plain": [
       "<AxesSubplot:xlabel='classe', ylabel='OPT_percent'>"
      ]
     },
     "execution_count": 10,
     "metadata": {},
     "output_type": "execute_result"
    },
    {
     "data": {
      "image/png": "[encoded data removed]",
      "text/plain": [
       "<Figure size 432x288 with 1 Axes>"
      ]
     },
     "metadata": {
      "needs_background": "light"
     },
     "output_type": "display_data"
    }
   ],
   "source": [
    "sns.boxplot(data=df, x=\"classe\", y=\"OPT_percent\")"
   ]
  }
 ],
 "metadata": {
  "interpreter": {
   "hash": "ae0c165457b802f0b012063a7cdde1edfba027a28a70c7da628e688424df5479"
  },
  "kernelspec": {
   "display_name": "Python 3.7.11 ('myenv')",
   "language": "python",
   "name": "python3"
  },
  "language_info": {
   "codemirror_mode": {
    "name": "ipython",
    "version": 3
   },
   "file_extension": ".py",
   "mimetype": "text/x-python",
   "name": "python",
   "nbconvert_exporter": "python",
   "pygments_lexer": "ipython3",
   "version": "3.7.11"
  },
  "orig_nbformat": 4
 },
 "nbformat": 4,
 "nbformat_minor": 2
}
