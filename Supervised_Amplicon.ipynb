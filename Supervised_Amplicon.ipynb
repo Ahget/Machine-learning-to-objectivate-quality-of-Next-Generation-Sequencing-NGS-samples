{
 "cells": [
  {
   "cell_type": "markdown",
   "metadata": {},
   "source": [
    "Ce script contient l'analyse par méthode supervisée des amplicons, afin de faire la prédiction 2 classes, créant la variable \"OPT_percent\""
   ]
  },
  {
   "cell_type": "code",
   "execution_count": 1,
   "metadata": {},
   "outputs": [],
   "source": [
    "import os \n",
    "import pandas as pd\n",
    "import numpy as np\n",
    "import matplotlib.pyplot as plt\n",
    "import seaborn as sns\n",
    "from seaborn_qqplot import pplot\n",
    "import scipy as sp\n",
    "import sklearn.cluster\n",
    "import tqdm\n",
    "from scipy.stats import zscore, kstest, kruskal"
   ]
  },
  {
   "cell_type": "code",
   "execution_count": 2,
   "metadata": {},
   "outputs": [],
   "source": [
    "path = r\"C:\\Users\\ahmed\\MFE project\"    \n",
    "df_train = pd.read_csv(os.path.join(path, [i for i in os.listdir(path) if i.find(\"addfeat_Train_Amplicon\")>-1][0]))\n",
    "df_test = pd.read_csv(os.path.join(path, [i for i in os.listdir(path) if i.find(\"addfeat_Test_Amplicon\")>-1][0]))"
   ]
  },
  {
   "cell_type": "code",
   "execution_count": 3,
   "metadata": {},
   "outputs": [],
   "source": [
    "df_train = df_train.fillna(0)\n",
    "df_test = df_test.fillna(0)"
   ]
  },
  {
   "cell_type": "code",
   "execution_count": 4,
   "metadata": {},
   "outputs": [],
   "source": [
    "train_2class = df_train[(df_train[\"classe\"]==\"OPT\")|(df_train[\"classe\"]==\"NC\")]\n",
    "test_2class = df_test[(df_test[\"classe\"]==\"OPT\")|(df_test[\"classe\"]==\"NC\")]"
   ]
  },
  {
   "cell_type": "code",
   "execution_count": 5,
   "metadata": {},
   "outputs": [],
   "source": [
    "New_var1 = ['gc_percent', 'cov500_percent', 'fwd_e2e_percent', 'rev_e2e_percent']\n"
   ]
  },
  {
   "cell_type": "code",
   "execution_count": 6,
   "metadata": {},
   "outputs": [],
   "source": [
    "from sklearn.tree import DecisionTreeClassifier\n",
    "from joblib import load\n",
    "from sklearn.model_selection import cross_val_score\n",
    "from sklearn.metrics import confusion_matrix\n",
    "\n",
    "# clf =DecisionTreeClassifier(min_samples_leaf=17, max_depth= 10, min_samples_split= 9)\n",
    "# clf.fit(train_2class[New_var1], train_2class[\"classe\"])\n",
    "\n",
    "clf = load(\"DT_model_train_saved2.joblib\")\n",
    "\n",
    "pred_train = clf.predict(df_train[New_var1])\n",
    "\n",
    "pred_test = clf.predict(df_test[New_var1])\n"
   ]
  },
  {
   "cell_type": "code",
   "execution_count": 7,
   "metadata": {},
   "outputs": [],
   "source": [
    "CM_train = confusion_matrix(df_train[\"classe\"], pred_train, normalize=\"true\", labels=[\"OPT\", \"NC\", \"SOPT\", \"NVA\"])\n",
    "\n",
    "CM_test = confusion_matrix(df_test[\"classe\"], pred_test, normalize=\"true\", labels=[\"OPT\", \"NC\", \"SOPT\", \"NVA\"])\n"
   ]
  },
  {
   "cell_type": "code",
   "execution_count": 14,
   "metadata": {},
   "outputs": [
    {
     "data": {
      "text/plain": [
       "array([[0.98379853, 0.01620147, 0.        , 0.        ],\n",
       "       [0.11101442, 0.88898558, 0.        , 0.        ],\n",
       "       [0.66990527, 0.33009473, 0.        , 0.        ],\n",
       "       [0.92777596, 0.07222404, 0.        , 0.        ]])"
      ]
     },
     "execution_count": 14,
     "metadata": {},
     "output_type": "execute_result"
    }
   ],
   "source": [
    "CM_train"
   ]
  },
  {
   "cell_type": "code",
   "execution_count": 8,
   "metadata": {},
   "outputs": [
    {
     "data": {
      "text/plain": [
       "array([[9394,  223,    0,    0],\n",
       "       [ 325, 2542,    0,    0],\n",
       "       [4110, 1888,    0,    0],\n",
       "       [3298,  335,    0,    0]], dtype=int64)"
      ]
     },
     "execution_count": 8,
     "metadata": {},
     "output_type": "execute_result"
    }
   ],
   "source": [
    "confusion_matrix(df_test[\"classe\"], pred_test, normalize=None, labels=[\"OPT\", \"NC\", \"SOPT\", \"NVA\"])"
   ]
  },
  {
   "cell_type": "code",
   "execution_count": 13,
   "metadata": {},
   "outputs": [
    {
     "data": {
      "text/plain": [
       "array([[0.9768119 , 0.0231881 , 0.        , 0.        ],\n",
       "       [0.11335891, 0.88664109, 0.        , 0.        ],\n",
       "       [0.68522841, 0.31477159, 0.        , 0.        ],\n",
       "       [0.90778971, 0.09221029, 0.        , 0.        ]])"
      ]
     },
     "execution_count": 13,
     "metadata": {},
     "output_type": "execute_result"
    }
   ],
   "source": [
    "CM_test"
   ]
  },
  {
   "cell_type": "code",
   "execution_count": 11,
   "metadata": {},
   "outputs": [],
   "source": [
    "df_test.loc[:,\"pred\"] = pred_test\n",
    "res_test = get_optpercent(df_test)"
   ]
  },
  {
   "cell_type": "code",
   "execution_count": 52,
   "metadata": {},
   "outputs": [],
   "source": [
    "df_train.loc[:,\"pred\"] = pred_train\n",
    "res_train = get_optpercent(df_train)"
   ]
  },
  {
   "cell_type": "code",
   "execution_count": 33,
   "metadata": {},
   "outputs": [],
   "source": [
    "rescla_test = get_optperclass(df_test)"
   ]
  },
  {
   "cell_type": "code",
   "execution_count": 35,
   "metadata": {},
   "outputs": [
    {
     "data": {
      "text/html": [
       "<div>\n",
       "<style scoped>\n",
       "    .dataframe tbody tr th:only-of-type {\n",
       "        vertical-align: middle;\n",
       "    }\n",
       "\n",
       "    .dataframe tbody tr th {\n",
       "        vertical-align: top;\n",
       "    }\n",
       "\n",
       "    .dataframe thead th {\n",
       "        text-align: right;\n",
       "    }\n",
       "</style>\n",
       "<table border=\"1\" class=\"dataframe\">\n",
       "  <thead>\n",
       "    <tr style=\"text-align: right;\">\n",
       "      <th></th>\n",
       "      <th>Unnamed: 0</th>\n",
       "      <th>Unnamed: 0.1</th>\n",
       "      <th>contig_id</th>\n",
       "      <th>contig_srt</th>\n",
       "      <th>contig_end</th>\n",
       "      <th>region_id</th>\n",
       "      <th>attributes</th>\n",
       "      <th>gc_count</th>\n",
       "      <th>overlaps</th>\n",
       "      <th>fwd_e2e</th>\n",
       "      <th>...</th>\n",
       "      <th>ordre</th>\n",
       "      <th>longueur</th>\n",
       "      <th>contig_length</th>\n",
       "      <th>gc_percent</th>\n",
       "      <th>cov20_percent</th>\n",
       "      <th>cov100_percent</th>\n",
       "      <th>cov500_percent</th>\n",
       "      <th>fwd_e2e_percent</th>\n",
       "      <th>rev_e2e_percent</th>\n",
       "      <th>pred</th>\n",
       "    </tr>\n",
       "  </thead>\n",
       "  <tbody>\n",
       "    <tr>\n",
       "      <th>0</th>\n",
       "      <td>0</td>\n",
       "      <td>33669</td>\n",
       "      <td>chr9</td>\n",
       "      <td>21970941</td>\n",
       "      <td>21971066</td>\n",
       "      <td>CHP2_CDKN2A_2</td>\n",
       "      <td>GENE_ID=CDKN2A</td>\n",
       "      <td>97</td>\n",
       "      <td>317</td>\n",
       "      <td>176</td>\n",
       "      <td>...</td>\n",
       "      <td>288</td>\n",
       "      <td>207</td>\n",
       "      <td>126</td>\n",
       "      <td>0.769841</td>\n",
       "      <td>1.0</td>\n",
       "      <td>1.0</td>\n",
       "      <td>0.0</td>\n",
       "      <td>0.941176</td>\n",
       "      <td>0.976923</td>\n",
       "      <td>OPT</td>\n",
       "    </tr>\n",
       "    <tr>\n",
       "      <th>1</th>\n",
       "      <td>1</td>\n",
       "      <td>33670</td>\n",
       "      <td>chr17</td>\n",
       "      <td>7577016</td>\n",
       "      <td>7577151</td>\n",
       "      <td>CHP2_TP53_7</td>\n",
       "      <td>GENE_ID=TP53</td>\n",
       "      <td>80</td>\n",
       "      <td>578</td>\n",
       "      <td>284</td>\n",
       "      <td>...</td>\n",
       "      <td>288</td>\n",
       "      <td>207</td>\n",
       "      <td>136</td>\n",
       "      <td>0.588235</td>\n",
       "      <td>1.0</td>\n",
       "      <td>1.0</td>\n",
       "      <td>1.0</td>\n",
       "      <td>0.972603</td>\n",
       "      <td>0.958042</td>\n",
       "      <td>OPT</td>\n",
       "    </tr>\n",
       "    <tr>\n",
       "      <th>2</th>\n",
       "      <td>2</td>\n",
       "      <td>33671</td>\n",
       "      <td>chr4</td>\n",
       "      <td>55946089</td>\n",
       "      <td>55946208</td>\n",
       "      <td>CHP2_KDR_9</td>\n",
       "      <td>GENE_ID=KDR</td>\n",
       "      <td>62</td>\n",
       "      <td>654</td>\n",
       "      <td>299</td>\n",
       "      <td>...</td>\n",
       "      <td>288</td>\n",
       "      <td>207</td>\n",
       "      <td>120</td>\n",
       "      <td>0.516667</td>\n",
       "      <td>1.0</td>\n",
       "      <td>1.0</td>\n",
       "      <td>1.0</td>\n",
       "      <td>0.980328</td>\n",
       "      <td>0.974212</td>\n",
       "      <td>OPT</td>\n",
       "    </tr>\n",
       "    <tr>\n",
       "      <th>3</th>\n",
       "      <td>3</td>\n",
       "      <td>33672</td>\n",
       "      <td>chr7</td>\n",
       "      <td>55248966</td>\n",
       "      <td>55249090</td>\n",
       "      <td>CHP2_EGFR_6</td>\n",
       "      <td>GENE_ID=EGFR</td>\n",
       "      <td>83</td>\n",
       "      <td>818</td>\n",
       "      <td>374</td>\n",
       "      <td>...</td>\n",
       "      <td>288</td>\n",
       "      <td>207</td>\n",
       "      <td>125</td>\n",
       "      <td>0.664000</td>\n",
       "      <td>1.0</td>\n",
       "      <td>1.0</td>\n",
       "      <td>1.0</td>\n",
       "      <td>0.984211</td>\n",
       "      <td>0.965753</td>\n",
       "      <td>OPT</td>\n",
       "    </tr>\n",
       "    <tr>\n",
       "      <th>4</th>\n",
       "      <td>4</td>\n",
       "      <td>33673</td>\n",
       "      <td>chr19</td>\n",
       "      <td>1220311</td>\n",
       "      <td>1220450</td>\n",
       "      <td>CHP2_STK11_2</td>\n",
       "      <td>GENE_ID=STK11</td>\n",
       "      <td>90</td>\n",
       "      <td>875</td>\n",
       "      <td>487</td>\n",
       "      <td>...</td>\n",
       "      <td>288</td>\n",
       "      <td>207</td>\n",
       "      <td>140</td>\n",
       "      <td>0.642857</td>\n",
       "      <td>1.0</td>\n",
       "      <td>1.0</td>\n",
       "      <td>1.0</td>\n",
       "      <td>0.993878</td>\n",
       "      <td>0.953247</td>\n",
       "      <td>OPT</td>\n",
       "    </tr>\n",
       "    <tr>\n",
       "      <th>...</th>\n",
       "      <td>...</td>\n",
       "      <td>...</td>\n",
       "      <td>...</td>\n",
       "      <td>...</td>\n",
       "      <td>...</td>\n",
       "      <td>...</td>\n",
       "      <td>...</td>\n",
       "      <td>...</td>\n",
       "      <td>...</td>\n",
       "      <td>...</td>\n",
       "      <td>...</td>\n",
       "      <td>...</td>\n",
       "      <td>...</td>\n",
       "      <td>...</td>\n",
       "      <td>...</td>\n",
       "      <td>...</td>\n",
       "      <td>...</td>\n",
       "      <td>...</td>\n",
       "      <td>...</td>\n",
       "      <td>...</td>\n",
       "      <td>...</td>\n",
       "    </tr>\n",
       "    <tr>\n",
       "      <th>22110</th>\n",
       "      <td>22110</td>\n",
       "      <td>30101</td>\n",
       "      <td>chr7</td>\n",
       "      <td>116423408</td>\n",
       "      <td>116423492</td>\n",
       "      <td>CHP2_MET_6</td>\n",
       "      <td>GENE_ID=MET;Pool=1</td>\n",
       "      <td>34</td>\n",
       "      <td>4545</td>\n",
       "      <td>3056</td>\n",
       "      <td>...</td>\n",
       "      <td>261</td>\n",
       "      <td>118</td>\n",
       "      <td>85</td>\n",
       "      <td>0.400000</td>\n",
       "      <td>1.0</td>\n",
       "      <td>1.0</td>\n",
       "      <td>1.0</td>\n",
       "      <td>0.961309</td>\n",
       "      <td>0.986091</td>\n",
       "      <td>OPT</td>\n",
       "    </tr>\n",
       "    <tr>\n",
       "      <th>22111</th>\n",
       "      <td>22111</td>\n",
       "      <td>30102</td>\n",
       "      <td>chr7</td>\n",
       "      <td>55241636</td>\n",
       "      <td>55241729</td>\n",
       "      <td>CHP2_EGFR_4</td>\n",
       "      <td>GENE_ID=EGFR;Pool=1</td>\n",
       "      <td>48</td>\n",
       "      <td>4617</td>\n",
       "      <td>2237</td>\n",
       "      <td>...</td>\n",
       "      <td>261</td>\n",
       "      <td>118</td>\n",
       "      <td>94</td>\n",
       "      <td>0.510638</td>\n",
       "      <td>1.0</td>\n",
       "      <td>1.0</td>\n",
       "      <td>1.0</td>\n",
       "      <td>0.946678</td>\n",
       "      <td>0.970719</td>\n",
       "      <td>OPT</td>\n",
       "    </tr>\n",
       "    <tr>\n",
       "      <th>22112</th>\n",
       "      <td>22112</td>\n",
       "      <td>30103</td>\n",
       "      <td>chr4</td>\n",
       "      <td>153245411</td>\n",
       "      <td>153245492</td>\n",
       "      <td>CHP2_FBXW7_5</td>\n",
       "      <td>GENE_ID=FBXW7;Pool=1</td>\n",
       "      <td>36</td>\n",
       "      <td>7005</td>\n",
       "      <td>4154</td>\n",
       "      <td>...</td>\n",
       "      <td>261</td>\n",
       "      <td>118</td>\n",
       "      <td>82</td>\n",
       "      <td>0.439024</td>\n",
       "      <td>1.0</td>\n",
       "      <td>1.0</td>\n",
       "      <td>1.0</td>\n",
       "      <td>0.978102</td>\n",
       "      <td>0.983321</td>\n",
       "      <td>OPT</td>\n",
       "    </tr>\n",
       "    <tr>\n",
       "      <th>22113</th>\n",
       "      <td>22113</td>\n",
       "      <td>30104</td>\n",
       "      <td>chr10</td>\n",
       "      <td>89720696</td>\n",
       "      <td>89720747</td>\n",
       "      <td>CHP2_PTEN_7</td>\n",
       "      <td>GENE_ID=PTEN;Pool=1</td>\n",
       "      <td>19</td>\n",
       "      <td>7249</td>\n",
       "      <td>3833</td>\n",
       "      <td>...</td>\n",
       "      <td>261</td>\n",
       "      <td>118</td>\n",
       "      <td>52</td>\n",
       "      <td>0.365385</td>\n",
       "      <td>1.0</td>\n",
       "      <td>1.0</td>\n",
       "      <td>1.0</td>\n",
       "      <td>0.990183</td>\n",
       "      <td>0.987574</td>\n",
       "      <td>OPT</td>\n",
       "    </tr>\n",
       "    <tr>\n",
       "      <th>22114</th>\n",
       "      <td>22114</td>\n",
       "      <td>30105</td>\n",
       "      <td>chr2</td>\n",
       "      <td>212570034</td>\n",
       "      <td>212570115</td>\n",
       "      <td>ERBB4_1_1.38352</td>\n",
       "      <td>GENE_ID=ERBB4;Pool=1</td>\n",
       "      <td>34</td>\n",
       "      <td>7389</td>\n",
       "      <td>3465</td>\n",
       "      <td>...</td>\n",
       "      <td>261</td>\n",
       "      <td>118</td>\n",
       "      <td>82</td>\n",
       "      <td>0.414634</td>\n",
       "      <td>1.0</td>\n",
       "      <td>1.0</td>\n",
       "      <td>1.0</td>\n",
       "      <td>0.969502</td>\n",
       "      <td>0.979292</td>\n",
       "      <td>OPT</td>\n",
       "    </tr>\n",
       "  </tbody>\n",
       "</table>\n",
       "<p>22115 rows × 34 columns</p>\n",
       "</div>"
      ],
      "text/plain": [
       "       Unnamed: 0  Unnamed: 0.1 contig_id  contig_srt  contig_end  \\\n",
       "0               0         33669      chr9    21970941    21971066   \n",
       "1               1         33670     chr17     7577016     7577151   \n",
       "2               2         33671      chr4    55946089    55946208   \n",
       "3               3         33672      chr7    55248966    55249090   \n",
       "4               4         33673     chr19     1220311     1220450   \n",
       "...           ...           ...       ...         ...         ...   \n",
       "22110       22110         30101      chr7   116423408   116423492   \n",
       "22111       22111         30102      chr7    55241636    55241729   \n",
       "22112       22112         30103      chr4   153245411   153245492   \n",
       "22113       22113         30104     chr10    89720696    89720747   \n",
       "22114       22114         30105      chr2   212570034   212570115   \n",
       "\n",
       "             region_id            attributes  gc_count  overlaps  fwd_e2e  \\\n",
       "0        CHP2_CDKN2A_2        GENE_ID=CDKN2A        97       317      176   \n",
       "1          CHP2_TP53_7          GENE_ID=TP53        80       578      284   \n",
       "2           CHP2_KDR_9           GENE_ID=KDR        62       654      299   \n",
       "3          CHP2_EGFR_6          GENE_ID=EGFR        83       818      374   \n",
       "4         CHP2_STK11_2         GENE_ID=STK11        90       875      487   \n",
       "...                ...                   ...       ...       ...      ...   \n",
       "22110       CHP2_MET_6    GENE_ID=MET;Pool=1        34      4545     3056   \n",
       "22111      CHP2_EGFR_4   GENE_ID=EGFR;Pool=1        48      4617     2237   \n",
       "22112     CHP2_FBXW7_5  GENE_ID=FBXW7;Pool=1        36      7005     4154   \n",
       "22113      CHP2_PTEN_7   GENE_ID=PTEN;Pool=1        19      7249     3833   \n",
       "22114  ERBB4_1_1.38352  GENE_ID=ERBB4;Pool=1        34      7389     3465   \n",
       "\n",
       "       ...  ordre  longueur  contig_length  gc_percent  cov20_percent  \\\n",
       "0      ...    288       207            126    0.769841            1.0   \n",
       "1      ...    288       207            136    0.588235            1.0   \n",
       "2      ...    288       207            120    0.516667            1.0   \n",
       "3      ...    288       207            125    0.664000            1.0   \n",
       "4      ...    288       207            140    0.642857            1.0   \n",
       "...    ...    ...       ...            ...         ...            ...   \n",
       "22110  ...    261       118             85    0.400000            1.0   \n",
       "22111  ...    261       118             94    0.510638            1.0   \n",
       "22112  ...    261       118             82    0.439024            1.0   \n",
       "22113  ...    261       118             52    0.365385            1.0   \n",
       "22114  ...    261       118             82    0.414634            1.0   \n",
       "\n",
       "       cov100_percent  cov500_percent  fwd_e2e_percent rev_e2e_percent pred  \n",
       "0                 1.0             0.0         0.941176        0.976923  OPT  \n",
       "1                 1.0             1.0         0.972603        0.958042  OPT  \n",
       "2                 1.0             1.0         0.980328        0.974212  OPT  \n",
       "3                 1.0             1.0         0.984211        0.965753  OPT  \n",
       "4                 1.0             1.0         0.993878        0.953247  OPT  \n",
       "...               ...             ...              ...             ...  ...  \n",
       "22110             1.0             1.0         0.961309        0.986091  OPT  \n",
       "22111             1.0             1.0         0.946678        0.970719  OPT  \n",
       "22112             1.0             1.0         0.978102        0.983321  OPT  \n",
       "22113             1.0             1.0         0.990183        0.987574  OPT  \n",
       "22114             1.0             1.0         0.969502        0.979292  OPT  \n",
       "\n",
       "[22115 rows x 34 columns]"
      ]
     },
     "execution_count": 35,
     "metadata": {},
     "output_type": "execute_result"
    }
   ],
   "source": [
    "df_test"
   ]
  },
  {
   "cell_type": "code",
   "execution_count": 12,
   "metadata": {},
   "outputs": [
    {
     "data": {
      "text/plain": [
       "<AxesSubplot:xlabel='classe', ylabel='OPT_percent'>"
      ]
     },
     "execution_count": 12,
     "metadata": {},
     "output_type": "execute_result"
    },
    {
     "data": {
      "image/png": "[encoded data removed]",
      "text/plain": [
       "<Figure size 432x288 with 1 Axes>"
      ]
     },
     "metadata": {
      "needs_background": "light"
     },
     "output_type": "display_data"
    }
   ],
   "source": [
    "sns.boxplot(data=res_test, y=\"OPT_percent\", x=\"classe\")"
   ]
  },
  {
   "cell_type": "code",
   "execution_count": 13,
   "metadata": {},
   "outputs": [
    {
     "data": {
      "text/plain": [
       "<AxesSubplot:xlabel='classe', ylabel='OPT_percent'>"
      ]
     },
     "execution_count": 13,
     "metadata": {},
     "output_type": "execute_result"
    },
    {
     "data": {
      "image/png": "[encoded data removed]",
      "text/plain": [
       "<Figure size 432x288 with 1 Axes>"
      ]
     },
     "metadata": {
      "needs_background": "light"
     },
     "output_type": "display_data"
    }
   ],
   "source": [
    "sns.scatterplot(data=res_test, y=\"OPT_percent\", x=\"classe\")"
   ]
  },
  {
   "cell_type": "code",
   "execution_count": 17,
   "metadata": {},
   "outputs": [
    {
     "data": {
      "text/plain": [
       "0.04081632653061224"
      ]
     },
     "execution_count": 17,
     "metadata": {},
     "output_type": "execute_result"
    }
   ],
   "source": [
    "res_test[(res_test[\"classe\"]==\"NC\") & (res_test[\"OPT_percent\"]>=0)][\"OPT_percent\"].median()"
   ]
  },
  {
   "cell_type": "code",
   "execution_count": 83,
   "metadata": {},
   "outputs": [
    {
     "data": {
      "text/plain": [
       "0    0.0\n",
       "Name: OPT_percent, dtype: float64"
      ]
     },
     "execution_count": 83,
     "metadata": {},
     "output_type": "execute_result"
    }
   ],
   "source": [
    "res_train[res_train[\"ordre\"]==599][\"OPT_percent\"]"
   ]
  },
  {
   "cell_type": "code",
   "execution_count": null,
   "metadata": {},
   "outputs": [],
   "source": [
    "\n",
    "from sklearn.ensemble import RandomForestClassifier\n",
    "\n",
    "clf = RandomForestClassifier(n_estimators= 50)\n",
    "clf.fit(train_2class[New_var1], train_2class[\"classe\"])"
   ]
  },
  {
   "cell_type": "code",
   "execution_count": 103,
   "metadata": {},
   "outputs": [],
   "source": [
    "from sklearn.ensemble import RandomForestClassifier\n",
    "from sklearn.model_selection import cross_val_score\n",
    "\n",
    "ks = [\n",
    "\n",
    "scores=[]\n",
    "for k in ks:\n",
    "    clf = RandomForestClassifier(n_estimators=15, max_depth=5, min_samples_split= 10, min_samples_leaf=2)\n",
    "    scores += [cross_val_score(clf, train_2class[New_var1], train_2class[\"classe\"], cv=5)]"
   ]
  },
  {
   "cell_type": "code",
   "execution_count": 105,
   "metadata": {},
   "outputs": [
    {
     "data": {
      "text/plain": [
       "RandomForestClassifier(max_depth=5, min_samples_leaf=2, min_samples_split=10,\n",
       "                       n_estimators=15)"
      ]
     },
     "execution_count": 105,
     "metadata": {},
     "output_type": "execute_result"
    }
   ],
   "source": [
    " clf = RandomForestClassifier(n_estimators=15, max_depth=5, min_samples_split= 10, min_samples_leaf=2)\n",
    " clf.fit(train_2class[New_var1], train_2class[\"classe\"])"
   ]
  },
  {
   "cell_type": "code",
   "execution_count": 30,
   "metadata": {},
   "outputs": [],
   "source": [
    "from sklearn.tree import DecisionTreeClassifier\n",
    "from sklearn.model_selection import cross_val_score\n",
    "ks = [ ]\n",
    "\n",
    "scores=[]\n",
    "for k in ks:\n",
    "    clf1 =DecisionTreeClassifier(min_samples_split=k )    \n",
    "    scores += [cross_val_score(clf1, train_2class[New_var1], train_2class[\"classe\"], cv=10)]"
   ]
  },
  {
   "cell_type": "code",
   "execution_count": 31,
   "metadata": {},
   "outputs": [
    {
     "data": {
      "text/plain": [
       "[0.9536856119227298,\n",
       " 0.9542190683235073,\n",
       " 0.9550976375108309,\n",
       " 0.9550662600398552]"
      ]
     },
     "execution_count": 31,
     "metadata": {},
     "output_type": "execute_result"
    }
   ],
   "source": [
    "[np.array(i).mean() for i in scores]"
   ]
  },
  {
   "cell_type": "code",
   "execution_count": 7,
   "metadata": {},
   "outputs": [
    {
     "data": {
      "text/plain": [
       "DecisionTreeClassifier(max_depth=10, min_samples_leaf=17, min_samples_split=9)"
      ]
     },
     "execution_count": 7,
     "metadata": {},
     "output_type": "execute_result"
    }
   ],
   "source": [
    "from sklearn.tree import DecisionTreeClassifier\n",
    "from sklearn.model_selection import cross_val_score\n",
    "clf =DecisionTreeClassifier(min_samples_leaf=17,max_depth= 10, min_samples_split= 9)\n",
    "clf.fit(train_2class[New_var1], train_2class[\"classe\"])\n",
    "# scores = [cross_val_score(clf, train_2class[New_var1], train_2class[\"classe\"], cv=5)]"
   ]
  },
  {
   "cell_type": "code",
   "execution_count": 12,
   "metadata": {},
   "outputs": [
    {
     "data": {
      "text/plain": [
       "['DT_model_train_saved2.joblib']"
      ]
     },
     "execution_count": 12,
     "metadata": {},
     "output_type": "execute_result"
    }
   ],
   "source": [
    "dump(clf, 'DT_model_train_saved2.joblib')"
   ]
  },
  {
   "cell_type": "code",
   "execution_count": 16,
   "metadata": {},
   "outputs": [
    {
     "data": {
      "text/plain": [
       "5"
      ]
     },
     "execution_count": 16,
     "metadata": {},
     "output_type": "execute_result"
    }
   ],
   "source": [
    "from sklearn.model_selection import KFold\n",
    "\n",
    "kf = KFold()\n",
    "kf.get_n_splits(train_2class[New_var1])"
   ]
  },
  {
   "cell_type": "code",
   "execution_count": 27,
   "metadata": {},
   "outputs": [],
   "source": [
    "truc = kf.split(train_2class[New_var1], train_2class[\"classe\"], range(5))"
   ]
  },
  {
   "cell_type": "code",
   "execution_count": 6,
   "metadata": {},
   "outputs": [],
   "source": [
    "from joblib import dump, load\n",
    "\n",
    "# to save the kmeans model\n",
    "\n",
    "# dump(clf, 'RFTuned_model_train_saved.joblib')\n",
    "\n",
    "# to load the model\n",
    "DT_local_loaded = load('DT_model_train_saved.joblib')"
   ]
  },
  {
   "cell_type": "code",
   "execution_count": 8,
   "metadata": {},
   "outputs": [],
   "source": [
    "pred = clf.predict(df_train[New_var1])"
   ]
  },
  {
   "cell_type": "code",
   "execution_count": 19,
   "metadata": {},
   "outputs": [
    {
     "data": {
      "text/plain": [
       "array([[9.99160546e-01, 8.39454355e-04, 0.00000000e+00, 0.00000000e+00],\n",
       "       [3.60517156e-03, 9.96394828e-01, 0.00000000e+00, 0.00000000e+00],\n",
       "       [6.76301514e-01, 3.23698486e-01, 0.00000000e+00, 0.00000000e+00],\n",
       "       [9.32852932e-01, 6.71470685e-02, 0.00000000e+00, 0.00000000e+00]])"
      ]
     },
     "execution_count": 19,
     "metadata": {},
     "output_type": "execute_result"
    }
   ],
   "source": [
    "from sklearn.metrics import confusion_matrix\n",
    "\n",
    "confusion_matrix(df_train[\"classe\"], pred, normalize=\"true\", labels=[\"OPT\", \"NC\", \"SOPT\", \"NVA\"])"
   ]
  },
  {
   "cell_type": "code",
   "execution_count": 9,
   "metadata": {},
   "outputs": [],
   "source": [
    "df_res = df_train\n",
    "df_res.loc[:,\"pred\"]= pred"
   ]
  },
  {
   "cell_type": "code",
   "execution_count": 11,
   "metadata": {},
   "outputs": [],
   "source": [
    "# df_res.to_csv(\"Data_DT_Ampli.csv\")"
   ]
  },
  {
   "cell_type": "code",
   "execution_count": 10,
   "metadata": {},
   "outputs": [],
   "source": [
    "\n",
    "def get_optperclass(df_res):\n",
    "    classe = [\"OPT\", \"NVA\", \"SOPT\", \"NC\"]\n",
    "    resultat = []\n",
    "    for i in classe:\n",
    "        df_tru = df_res[df_res[\"classe\"]==i]\n",
    "        longueur = len(df_tru)\n",
    "        OPT = np.array([1 for i in range(len(df_tru)) if df_tru[\"pred\"].values[i]==\"OPT\"]).sum()\n",
    "        OPT_percent = OPT/longueur\n",
    "        df_rep = pd.DataFrame([[i, int(longueur), int(OPT), float(OPT_percent)]], columns=[\"classe\", \"longueur\", \"OPT\", \"OPT_percent\"])\n",
    "        resultat.append(df_rep)\n",
    "    df_resul = pd.concat(resultat)\n",
    "    return df_resul\n",
    "\n",
    "def get_optpercent(df_res):\n",
    "    ordr = list(dict.fromkeys(df_res[\"ordre\"].values))\n",
    "    resultat = []\n",
    "    for i in ordr:\n",
    "        df_tru = df_res[df_res[\"ordre\"]==i]\n",
    "        cla = str(df_tru[\"classe\"].values[0])\n",
    "        longueur = len(df_tru)\n",
    "        OPT = np.array([1 for i in range(len(df_tru)) if df_tru[\"pred\"].values[i]==\"OPT\"]).sum()\n",
    "        NC = longueur - OPT\n",
    "        OPT_percent = OPT/longueur\n",
    "        NC_percent = NC/longueur\n",
    "        df_rep = pd.DataFrame([[int(i), cla, int(longueur), int(OPT), int(NC), float(OPT_percent), float(NC_percent)]], columns=[\"ordre\", \"classe\", \"longueur\", \"OPT\", \"NC\", \"OPT_percent\", \"NC_percent\"])\n",
    "        resultat.append(df_rep)\n",
    "    df_resul = pd.concat(resultat)\n",
    "    return df_resul"
   ]
  },
  {
   "cell_type": "code",
   "execution_count": 1,
   "metadata": {},
   "outputs": [
    {
     "ename": "NameError",
     "evalue": "name 'df_resul' is not defined",
     "output_type": "error",
     "traceback": [
      "\u001b[1;31m---------------------------------------------------------------------------\u001b[0m",
      "\u001b[1;31mNameError\u001b[0m                                 Traceback (most recent call last)",
      "\u001b[1;32m~\\AppData\\Local\\Temp/ipykernel_7484/272896295.py\u001b[0m in \u001b[0;36m<module>\u001b[1;34m\u001b[0m\n\u001b[1;32m----> 1\u001b[1;33m \u001b[0mdf_resul\u001b[0m\u001b[1;33m[\u001b[0m\u001b[0mdf_resul\u001b[0m\u001b[1;33m[\u001b[0m\u001b[1;34m\"classe\"\u001b[0m\u001b[1;33m]\u001b[0m\u001b[1;33m==\u001b[0m\u001b[1;34m\"OPT\"\u001b[0m\u001b[1;33m]\u001b[0m\u001b[1;33m.\u001b[0m\u001b[0mdescribe\u001b[0m\u001b[1;33m(\u001b[0m\u001b[1;33m)\u001b[0m\u001b[1;33m\u001b[0m\u001b[1;33m\u001b[0m\u001b[0m\n\u001b[0m",
      "\u001b[1;31mNameError\u001b[0m: name 'df_resul' is not defined"
     ]
    }
   ],
   "source": [
    "df_resul[df_resul[\"classe\"]==\"OPT\"].describe()"
   ]
  },
  {
   "cell_type": "code",
   "execution_count": 50,
   "metadata": {},
   "outputs": [],
   "source": [
    "# df_resul.to_csv(\"results_global_RandomForest.csv\")"
   ]
  },
  {
   "cell_type": "code",
   "execution_count": 23,
   "metadata": {},
   "outputs": [
    {
     "data": {
      "text/plain": [
       "array([0.05956253, 0.66674766, 0.12844463, 0.14524518])"
      ]
     },
     "execution_count": 23,
     "metadata": {},
     "output_type": "execute_result"
    }
   ],
   "source": [
    "km_loaded.feature_importances_"
   ]
  },
  {
   "cell_type": "code",
   "execution_count": 29,
   "metadata": {},
   "outputs": [],
   "source": [
    "# df_res.to_csv(\"Data_RF_Ampli.csv\")"
   ]
  }
 ],
 "metadata": {
  "interpreter": {
   "hash": "33014acfdbcb810986e99ea7f22d389c01d2d0c67e299eb7de05698aab0e874d"
  },
  "kernelspec": {
   "display_name": "Python 3.7.11 ('myenv')",
   "language": "python",
   "name": "python3"
  },
  "language_info": {
   "codemirror_mode": {
    "name": "ipython",
    "version": 3
   },
   "file_extension": ".py",
   "mimetype": "text/x-python",
   "name": "python",
   "nbconvert_exporter": "python",
   "pygments_lexer": "ipython3",
   "version": "3.7.11"
  },
  "orig_nbformat": 4
 },
 "nbformat": 4,
 "nbformat_minor": 2
}
