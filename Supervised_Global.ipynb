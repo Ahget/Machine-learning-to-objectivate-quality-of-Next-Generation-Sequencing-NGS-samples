{
 "cells": [
  {
   "cell_type": "markdown",
   "metadata": {},
   "source": [
    "Dans ce script, il y a l'entrainement des modèles servant à la classification en 4 classes."
   ]
  },
  {
   "cell_type": "code",
   "execution_count": 2,
   "metadata": {},
   "outputs": [],
   "source": [
    "import os \n",
    "import pandas as pd\n",
    "import numpy as np\n",
    "import matplotlib.pyplot as plt\n",
    "import seaborn as sns\n",
    "from seaborn_qqplot import pplot\n",
    "import scipy as sp\n",
    "import sklearn.cluster\n",
    "import tqdm\n",
    "from scipy.stats import zscore, kstest, kruskal"
   ]
  },
  {
   "cell_type": "code",
   "execution_count": 3,
   "metadata": {},
   "outputs": [],
   "source": [
    "path = r\"C:\\Users\\ahmed\\MFE project\"    \n",
    "df = pd.read_csv(os.path.join(path, [i for i in os.listdir(path) if i.find(\"Database_Global_AmpliconDT_TSV\")>-1][0])).fillna(0)\n",
    "\n",
    "df_test = pd.read_csv(os.path.join(path, [i for i in os.listdir(path) if i.find(\"Database_Global_Test_AmpliconDT_TSV\")>-1][0])).fillna(0)"
   ]
  },
  {
   "cell_type": "code",
   "execution_count": 74,
   "metadata": {},
   "outputs": [
    {
     "data": {
      "text/html": [
       "<div>\n",
       "<style scoped>\n",
       "    .dataframe tbody tr th:only-of-type {\n",
       "        vertical-align: middle;\n",
       "    }\n",
       "\n",
       "    .dataframe tbody tr th {\n",
       "        vertical-align: top;\n",
       "    }\n",
       "\n",
       "    .dataframe thead th {\n",
       "        text-align: right;\n",
       "    }\n",
       "</style>\n",
       "<table border=\"1\" class=\"dataframe\">\n",
       "  <thead>\n",
       "    <tr style=\"text-align: right;\">\n",
       "      <th></th>\n",
       "      <th>OPT_percent</th>\n",
       "      <th>pred</th>\n",
       "    </tr>\n",
       "  </thead>\n",
       "  <tbody>\n",
       "    <tr>\n",
       "      <th>52</th>\n",
       "      <td>0.540816</td>\n",
       "      <td>SOPT</td>\n",
       "    </tr>\n",
       "  </tbody>\n",
       "</table>\n",
       "</div>"
      ],
      "text/plain": [
       "    OPT_percent  pred\n",
       "52     0.540816  SOPT"
      ]
     },
     "execution_count": 74,
     "metadata": {},
     "output_type": "execute_result"
    }
   ],
   "source": [
    "df_test[(df_test[\"classe\"]==\"NVA\") & (df_test[\"OPT_percent\"]<0.6)][[\"OPT_percent\", \"pred\"]]"
   ]
  },
  {
   "cell_type": "code",
   "execution_count": 30,
   "metadata": {},
   "outputs": [
    {
     "data": {
      "text/plain": [
       "<AxesSubplot:xlabel='classe', ylabel='OPT_percent'>"
      ]
     },
     "execution_count": 30,
     "metadata": {},
     "output_type": "execute_result"
    },
    {
     "data": {
      "image/png": "[encoded data removed]",
      "text/plain": [
       "<Figure size 432x288 with 1 Axes>"
      ]
     },
     "metadata": {
      "needs_background": "light"
     },
     "output_type": "display_data"
    }
   ],
   "source": [
    "sns.scatterplot(data=df_test, y=\"OPT_percent\", x=\"classe\")"
   ]
  },
  {
   "cell_type": "code",
   "execution_count": 71,
   "metadata": {},
   "outputs": [],
   "source": [
    "from sklearn.ensemble import RandomForestClassifier\n",
    "from joblib import load\n",
    "\n",
    "clf = load(\"RF_model_Global_train_saved.joblib\")\n",
    "\n",
    "\n",
    "pred = clf.predict(df_test[all_feat])\n",
    "df_test.loc[:,\"pred\"]=pred"
   ]
  },
  {
   "cell_type": "code",
   "execution_count": 80,
   "metadata": {},
   "outputs": [
    {
     "data": {
      "text/plain": [
       "array([0.95483871, 0.7804878 , 0.84955752, 0.98305085])"
      ]
     },
     "execution_count": 80,
     "metadata": {},
     "output_type": "execute_result"
    }
   ],
   "source": [
    "from sklearn.metrics import confusion_matrix\n",
    "from sklearn.metrics import f1_score\n",
    "# confusion_matrix(df_test[\"classe\"], pred, normalize= \"true\" , labels=[\"OPT\", \"NC\", \"SOPT\", \"NVA\"])\n",
    "f1_score(df_test[\"classe\"], pred, labels = [\"OPT\", \"NC\", \"SOPT\", \"NVA\"], average = None)\n"
   ]
  },
  {
   "cell_type": "code",
   "execution_count": 4,
   "metadata": {},
   "outputs": [],
   "source": [
    "# toutes les variables\n",
    "all_feat = ['gc_percent_mean', 'gc_percent_median',\n",
    "       'gc_percent_0.3', 'gc_percent_0.5', 'gc_percent_0.7', 'gc_percent_0.9',\n",
    "       'cov20_percent_mean', 'cov20_percent_median', 'cov20_percent_0.3',\n",
    "       'cov20_percent_0.5', 'cov20_percent_0.7', 'cov20_percent_0.9',\n",
    "       'cov100_percent_mean', 'cov100_percent_median', 'cov100_percent_0.3',\n",
    "       'cov100_percent_0.5', 'cov100_percent_0.7', 'cov100_percent_0.9',\n",
    "       'cov500_percent_mean', 'cov500_percent_median', 'cov500_percent_0.3',\n",
    "       'cov500_percent_0.5', 'cov500_percent_0.7', 'cov500_percent_0.9',\n",
    "       'fwd_e2e_percent_mean', 'fwd_e2e_percent_median', 'fwd_e2e_percent_0.3',\n",
    "       'fwd_e2e_percent_0.5', 'fwd_e2e_percent_0.7', 'fwd_e2e_percent_0.9',\n",
    "       'rev_e2e_percent_mean', 'rev_e2e_percent_median', 'rev_e2e_percent_0.3',\n",
    "       'rev_e2e_percent_0.5', 'rev_e2e_percent_0.7', 'rev_e2e_percent_0.9', 'longueur', 'OPT_percent',\n",
    "       'Frequency_norm_mean', 'Frequency_norm_median', 'Frequency_norm_0.3',\n",
    "       'Frequency_norm_0.5', 'Frequency_norm_0.7', 'Frequency_norm_0.9',\n",
    "       'Quality_norm_mean', 'Quality_norm_median', 'Quality_norm_0.3',\n",
    "       'Quality_norm_0.5', 'Quality_norm_0.7', 'Quality_norm_0.9',\n",
    "       'Coverage_norm_mean', 'Coverage_norm_median', 'Coverage_norm_0.3',\n",
    "       'Coverage_norm_0.5', 'Coverage_norm_0.7', 'Coverage_norm_0.9',\n",
    "       'Allele Cov_norm_mean', 'Allele Cov_norm_median', 'Allele Cov_norm_0.3',\n",
    "       'Allele Cov_norm_0.5', 'Allele Cov_norm_0.7', 'Allele Cov_norm_0.9',\n",
    "       'longueur_norm_mean', 'longueur_norm_median', 'longueur_norm_0.3',\n",
    "       'longueur_norm_0.5', 'longueur_norm_0.7', 'longueur_norm_0.9']"
   ]
  },
  {
   "cell_type": "code",
   "execution_count": 5,
   "metadata": {},
   "outputs": [],
   "source": [
    "df_input = df[all_feat]"
   ]
  },
  {
   "cell_type": "code",
   "execution_count": 80,
   "metadata": {},
   "outputs": [],
   "source": [
    "#feature selection RFE (25 features)\n",
    "from sklearn.ensemble import RandomForestClassifier\n",
    "from sklearn.feature_selection import RFE\n",
    "estim = RandomForestClassifier(n_estimators=50)\n",
    "rfe = RFE(estim, n_features_to_select=25, step=1)\n",
    "rfe = rfe.fit(df[all_feat].fillna(0), df[\"classe\"])\n",
    "\n",
    "feat_imp = pd.concat([pd.DataFrame(rfe.support_, columns=[\"imp\"]),pd.DataFrame(all_feat, columns=[\"feat\"])], axis=1)\n"
   ]
  },
  {
   "cell_type": "code",
   "execution_count": 81,
   "metadata": {},
   "outputs": [],
   "source": [
    "feat_rfe = feat_imp[feat_imp[\"imp\"]==True][\"feat\"].values"
   ]
  },
  {
   "cell_type": "code",
   "execution_count": 82,
   "metadata": {},
   "outputs": [
    {
     "data": {
      "text/plain": [
       "array(['cov500_percent_mean', 'cov500_percent_0.3', 'cov500_percent_0.5',\n",
       "       'cov500_percent_0.7', 'cov500_percent_0.9', 'OPT_percent',\n",
       "       'Frequency_norm_mean', 'Frequency_norm_median',\n",
       "       'Frequency_norm_0.3', 'Frequency_norm_0.5', 'Quality_norm_mean',\n",
       "       'Quality_norm_median', 'Quality_norm_0.3', 'Coverage_norm_mean',\n",
       "       'Coverage_norm_median', 'Coverage_norm_0.3', 'Coverage_norm_0.5',\n",
       "       'Coverage_norm_0.7', 'Coverage_norm_0.9', 'Allele Cov_norm_mean',\n",
       "       'Allele Cov_norm_median', 'Allele Cov_norm_0.3',\n",
       "       'Allele Cov_norm_0.5', 'longueur_norm_mean',\n",
       "       'longueur_norm_median'], dtype=object)"
      ]
     },
     "execution_count": 82,
     "metadata": {},
     "output_type": "execute_result"
    }
   ],
   "source": [
    "feat_rfe"
   ]
  },
  {
   "cell_type": "code",
   "execution_count": 62,
   "metadata": {},
   "outputs": [],
   "source": [
    "df_input = df[feat_rfe]"
   ]
  },
  {
   "cell_type": "code",
   "execution_count": 12,
   "metadata": {},
   "outputs": [],
   "source": [
    "#Features selection. pour correl pearson >0.9\n",
    "df_input = df[['gc_percent_mean', 'gc_percent_0.7',\n",
    "       'cov20_percent_mean', 'cov20_percent_median', 'cov100_percent_mean',\n",
    "       'fwd_e2e_percent_mean', 'fwd_e2e_percent_median', 'fwd_e2e_percent_0.3',\n",
    "       'fwd_e2e_percent_0.9', 'OPT_percent', 'longueur',\n",
    "       'Frequency_norm_mean', 'Frequency_norm_0.7',\n",
    "       'Quality_norm_mean', 'Quality_norm_0.7', 'Quality_norm_0.9',\n",
    "       'Coverage_norm_mean','Coverage_norm_0.9',\n",
    "       'longueur_norm_mean', 'longueur_norm_0.3',\n",
    "       'longueur_norm_0.5', 'longueur_norm_0.7']].fillna(0)"
   ]
  },
  {
   "cell_type": "code",
   "execution_count": 25,
   "metadata": {},
   "outputs": [],
   "source": [
    "#Features selection. pour correl Spearman >0.9\n",
    "df_input = df[['gc_percent_mean',\n",
    "       'gc_percent_0.3', 'gc_percent_0.5', 'gc_percent_0.9',\n",
    "       'cov20_percent_mean', 'cov20_percent_median', 'cov100_percent_mean', 'cov100_percent_median',\n",
    "       'cov500_percent_median', 'fwd_e2e_percent_mean', 'fwd_e2e_percent_median', 'fwd_e2e_percent_0.3',\n",
    "       'fwd_e2e_percent_0.5', 'fwd_e2e_percent_0.7', 'fwd_e2e_percent_0.9',\n",
    "       'rev_e2e_percent_mean', 'rev_e2e_percent_0.3',\n",
    "       'rev_e2e_percent_0.5', 'rev_e2e_percent_0.7', 'rev_e2e_percent_0.9', 'longueur', 'OPT_percent',\n",
    "       'Frequency_norm_mean', 'Frequency_norm_0.3',\n",
    "       'Quality_norm_mean',\n",
    "       'Quality_norm_0.5', 'Quality_norm_0.7', 'Quality_norm_0.9',\n",
    "       'Coverage_norm_mean',\n",
    "       'longueur_norm_mean', 'longueur_norm_0.3',\n",
    "       'longueur_norm_0.5', 'longueur_norm_0.7', 'longueur_norm_0.9']].fillna(0)"
   ]
  },
  {
   "cell_type": "code",
   "execution_count": 14,
   "metadata": {},
   "outputs": [],
   "source": [
    "#features selection. Random Forest feature importance (25 features)\n",
    "feat_RF = ['OPT_percent', 'Coverage_norm_mean', 'cov500_percent_mean',\n",
    "       'cov500_percent_0.5', 'cov500_percent_0.3', 'cov500_percent_0.9',\n",
    "       'cov500_percent_0.7', 'Coverage_norm_median', 'longueur_norm_median',\n",
    "       'Quality_norm_median', 'Frequency_norm_mean', 'longueur_norm_mean',\n",
    "       'Coverage_norm_0.5', 'Quality_norm_0.3', 'Frequency_norm_median',\n",
    "       'Allele Cov_norm_mean', 'Allele Cov_norm_0.3', 'Coverage_norm_0.7',\n",
    "       'Frequency_norm_0.3', 'Allele Cov_norm_median', 'Coverage_norm_0.3',\n",
    "       'Quality_norm_mean', 'cov100_percent_0.9', 'Allele Cov_norm_0.7',\n",
    "       'cov500_percent_median']\n",
    "\n",
    "df_input = df[['OPT_percent', 'Coverage_norm_mean', 'cov500_percent_mean',\n",
    "       'cov500_percent_0.5', 'cov500_percent_0.3', 'cov500_percent_0.9',\n",
    "       'cov500_percent_0.7', 'Coverage_norm_median', 'longueur_norm_median',\n",
    "       'Quality_norm_median', 'Frequency_norm_mean', 'longueur_norm_mean',\n",
    "       'Coverage_norm_0.5', 'Quality_norm_0.3', 'Frequency_norm_median',\n",
    "       'Allele Cov_norm_mean', 'Allele Cov_norm_0.3', 'Coverage_norm_0.7',\n",
    "       'Frequency_norm_0.3', 'Allele Cov_norm_median', 'Coverage_norm_0.3',\n",
    "       'Quality_norm_mean', 'cov100_percent_0.9', 'Allele Cov_norm_0.7',\n",
    "       'cov500_percent_median']]"
   ]
  },
  {
   "cell_type": "code",
   "execution_count": 6,
   "metadata": {},
   "outputs": [],
   "source": [
    "df_output = df[\"classe\"]"
   ]
  },
  {
   "cell_type": "code",
   "execution_count": 27,
   "metadata": {},
   "outputs": [],
   "source": [
    "from sklearn.model_selection import train_test_split\n",
    "\n",
    "x_train, x_test, y_train, y_test = train_test_split(df_input, df_output, test_size=0.5)"
   ]
  },
  {
   "cell_type": "code",
   "execution_count": 6,
   "metadata": {},
   "outputs": [
    {
     "data": {
      "text/plain": [
       "RandomForestClassifier(n_estimators=50)"
      ]
     },
     "execution_count": 6,
     "metadata": {},
     "output_type": "execute_result"
    }
   ],
   "source": [
    "from sklearn.ensemble import RandomForestClassifier\n",
    "\n",
    "clf = RandomForestClassifier(n_estimators= 50)\n",
    "\n",
    "clf.fit(df[all_feat], df_output)"
   ]
  },
  {
   "cell_type": "code",
   "execution_count": 8,
   "metadata": {},
   "outputs": [],
   "source": [
    "pred = clf.predict(df_test[all_feat])"
   ]
  },
  {
   "cell_type": "code",
   "execution_count": 18,
   "metadata": {},
   "outputs": [],
   "source": [
    "from sklearn.model_selection import cross_val_score\n",
    "from sklearn.ensemble import RandomForestClassifier\n",
    "ks = [2, 5, 10, 20, 30]\n",
    "\n",
    "scores=[]\n",
    "for k in ks:\n",
    "    clf =RandomForestClassifier(n_estimators= 50, min_samples_split=k)    \n",
    "    scores += [cross_val_score(clf, df[all_feat], df_output, cv=5)]"
   ]
  },
  {
   "cell_type": "code",
   "execution_count": 19,
   "metadata": {},
   "outputs": [
    {
     "data": {
      "text/plain": [
       "[0.9495123350545036,\n",
       " 0.9471026965002869,\n",
       " 0.9471026965002869,\n",
       " 0.9399024670109007,\n",
       " 0.935083189902467]"
      ]
     },
     "execution_count": 19,
     "metadata": {},
     "output_type": "execute_result"
    }
   ],
   "source": [
    "[np.array(i).mean() for i in scores]"
   ]
  },
  {
   "cell_type": "code",
   "execution_count": 9,
   "metadata": {},
   "outputs": [
    {
     "data": {
      "text/plain": [
       "array([[0.  , 0.04, 0.96, 0.  ],\n",
       "       [0.  , 0.08, 0.66, 0.26],\n",
       "       [0.  , 0.  , 0.  , 1.  ],\n",
       "       [0.  , 0.  , 1.  , 0.  ],\n",
       "       [0.  , 0.  , 1.  , 0.  ],\n",
       "       [0.54, 0.06, 0.  , 0.4 ],\n",
       "       [0.  , 0.04, 0.96, 0.  ],\n",
       "       [0.  , 0.04, 0.96, 0.  ],\n",
       "       [0.04, 0.02, 0.12, 0.82],\n",
       "       [1.  , 0.  , 0.  , 0.  ],\n",
       "       [0.  , 0.86, 0.  , 0.14],\n",
       "       [0.  , 0.  , 1.  , 0.  ],\n",
       "       [0.96, 0.  , 0.  , 0.04],\n",
       "       [0.  , 0.88, 0.  , 0.12],\n",
       "       [0.  , 0.  , 1.  , 0.  ],\n",
       "       [0.02, 0.82, 0.02, 0.14],\n",
       "       [0.  , 0.02, 0.9 , 0.08],\n",
       "       [0.  , 0.04, 0.96, 0.  ],\n",
       "       [0.  , 0.  , 1.  , 0.  ],\n",
       "       [0.02, 0.74, 0.04, 0.2 ],\n",
       "       [1.  , 0.  , 0.  , 0.  ],\n",
       "       [0.  , 0.  , 1.  , 0.  ],\n",
       "       [0.04, 0.  , 0.06, 0.9 ],\n",
       "       [0.  , 0.02, 0.92, 0.06],\n",
       "       [0.2 , 0.  , 0.  , 0.8 ],\n",
       "       [0.  , 0.  , 1.  , 0.  ],\n",
       "       [0.  , 0.72, 0.06, 0.22],\n",
       "       [0.14, 0.  , 0.  , 0.86],\n",
       "       [1.  , 0.  , 0.  , 0.  ],\n",
       "       [0.04, 0.  , 0.  , 0.96],\n",
       "       [0.  , 0.62, 0.08, 0.3 ],\n",
       "       [0.  , 0.  , 1.  , 0.  ],\n",
       "       [0.  , 0.46, 0.  , 0.54],\n",
       "       [0.06, 0.12, 0.  , 0.82],\n",
       "       [0.04, 0.68, 0.06, 0.22],\n",
       "       [0.  , 0.9 , 0.04, 0.06],\n",
       "       [0.  , 1.  , 0.  , 0.  ],\n",
       "       [0.02, 0.  , 0.64, 0.34],\n",
       "       [0.  , 0.  , 1.  , 0.  ],\n",
       "       [1.  , 0.  , 0.  , 0.  ],\n",
       "       [0.  , 0.  , 1.  , 0.  ],\n",
       "       [0.  , 0.  , 1.  , 0.  ],\n",
       "       [0.04, 0.  , 0.  , 0.96],\n",
       "       [0.  , 0.  , 1.  , 0.  ],\n",
       "       [0.02, 0.  , 0.22, 0.76],\n",
       "       [0.  , 0.  , 0.04, 0.96],\n",
       "       [0.  , 0.  , 0.08, 0.92],\n",
       "       [0.  , 0.56, 0.44, 0.  ],\n",
       "       [0.  , 0.  , 1.  , 0.  ],\n",
       "       [0.  , 0.02, 0.04, 0.94],\n",
       "       [0.  , 0.  , 0.3 , 0.7 ],\n",
       "       [0.  , 0.  , 0.  , 1.  ],\n",
       "       [0.34, 0.24, 0.  , 0.42],\n",
       "       [0.  , 0.  , 0.88, 0.12],\n",
       "       [0.62, 0.  , 0.  , 0.38],\n",
       "       [0.  , 0.  , 1.  , 0.  ],\n",
       "       [0.  , 0.  , 1.  , 0.  ],\n",
       "       [0.  , 0.  , 0.4 , 0.6 ],\n",
       "       [0.  , 0.98, 0.02, 0.  ],\n",
       "       [0.  , 0.74, 0.02, 0.24],\n",
       "       [0.  , 0.02, 0.98, 0.  ],\n",
       "       [0.  , 0.  , 1.  , 0.  ],\n",
       "       [0.  , 0.  , 1.  , 0.  ],\n",
       "       [0.  , 0.  , 0.  , 1.  ],\n",
       "       [0.  , 1.  , 0.  , 0.  ],\n",
       "       [0.  , 0.02, 0.98, 0.  ],\n",
       "       [0.  , 0.  , 1.  , 0.  ],\n",
       "       [1.  , 0.  , 0.  , 0.  ],\n",
       "       [0.  , 0.  , 1.  , 0.  ],\n",
       "       [0.  , 0.06, 0.94, 0.  ],\n",
       "       [0.  , 0.  , 1.  , 0.  ],\n",
       "       [0.  , 0.  , 1.  , 0.  ],\n",
       "       [0.  , 0.  , 1.  , 0.  ],\n",
       "       [0.  , 0.  , 1.  , 0.  ],\n",
       "       [0.  , 0.1 , 0.9 , 0.  ],\n",
       "       [0.48, 0.  , 0.  , 0.52],\n",
       "       [0.56, 0.  , 0.  , 0.44],\n",
       "       [0.  , 1.  , 0.  , 0.  ],\n",
       "       [0.  , 0.  , 1.  , 0.  ],\n",
       "       [0.  , 0.02, 0.94, 0.04],\n",
       "       [0.  , 0.  , 0.  , 1.  ],\n",
       "       [1.  , 0.  , 0.  , 0.  ],\n",
       "       [0.  , 0.  , 1.  , 0.  ],\n",
       "       [0.  , 0.  , 0.98, 0.02],\n",
       "       [0.  , 0.92, 0.08, 0.  ],\n",
       "       [0.  , 0.  , 1.  , 0.  ],\n",
       "       [0.  , 0.  , 1.  , 0.  ],\n",
       "       [0.  , 0.02, 0.98, 0.  ],\n",
       "       [0.  , 0.  , 1.  , 0.  ],\n",
       "       [0.  , 0.  , 1.  , 0.  ],\n",
       "       [0.  , 0.  , 1.  , 0.  ],\n",
       "       [0.  , 0.  , 1.  , 0.  ],\n",
       "       [0.  , 0.  , 1.  , 0.  ],\n",
       "       [0.  , 0.  , 0.  , 1.  ],\n",
       "       [0.  , 0.  , 1.  , 0.  ],\n",
       "       [0.  , 0.  , 1.  , 0.  ],\n",
       "       [0.04, 0.02, 0.16, 0.78],\n",
       "       [0.02, 0.02, 0.02, 0.94],\n",
       "       [0.9 , 0.  , 0.02, 0.08],\n",
       "       [0.6 , 0.  , 0.  , 0.4 ],\n",
       "       [0.  , 0.6 , 0.4 , 0.  ],\n",
       "       [0.  , 0.74, 0.26, 0.  ],\n",
       "       [0.  , 0.98, 0.02, 0.  ],\n",
       "       [0.  , 1.  , 0.  , 0.  ],\n",
       "       [0.  , 0.96, 0.04, 0.  ],\n",
       "       [0.  , 1.  , 0.  , 0.  ],\n",
       "       [0.02, 0.72, 0.  , 0.26],\n",
       "       [0.  , 0.02, 0.98, 0.  ],\n",
       "       [0.  , 0.  , 0.  , 1.  ],\n",
       "       [0.06, 0.  , 0.02, 0.92],\n",
       "       [0.04, 0.02, 0.  , 0.94],\n",
       "       [0.  , 0.  , 1.  , 0.  ],\n",
       "       [0.6 , 0.  , 0.  , 0.4 ],\n",
       "       [0.  , 0.  , 1.  , 0.  ],\n",
       "       [0.98, 0.  , 0.  , 0.02],\n",
       "       [0.02, 0.  , 0.16, 0.82],\n",
       "       [0.02, 0.  , 0.12, 0.86],\n",
       "       [0.06, 0.14, 0.  , 0.8 ],\n",
       "       [0.62, 0.  , 0.02, 0.36],\n",
       "       [0.02, 0.  , 0.76, 0.22],\n",
       "       [0.  , 0.02, 0.02, 0.96],\n",
       "       [0.3 , 0.02, 0.  , 0.68],\n",
       "       [0.  , 0.  , 0.  , 1.  ],\n",
       "       [0.  , 0.02, 0.44, 0.54],\n",
       "       [0.  , 0.  , 0.  , 1.  ],\n",
       "       [0.  , 0.  , 0.02, 0.98],\n",
       "       [0.96, 0.  , 0.  , 0.04],\n",
       "       [0.02, 0.  , 0.1 , 0.88],\n",
       "       [0.04, 0.  , 0.1 , 0.86],\n",
       "       [0.  , 0.02, 0.6 , 0.38],\n",
       "       [0.  , 0.74, 0.24, 0.02],\n",
       "       [0.02, 0.56, 0.06, 0.36],\n",
       "       [0.  , 0.  , 1.  , 0.  ],\n",
       "       [0.  , 0.48, 0.02, 0.5 ],\n",
       "       [0.  , 0.92, 0.08, 0.  ],\n",
       "       [0.  , 0.  , 1.  , 0.  ],\n",
       "       [0.  , 0.  , 1.  , 0.  ],\n",
       "       [0.  , 0.  , 1.  , 0.  ],\n",
       "       [0.  , 0.  , 1.  , 0.  ],\n",
       "       [0.  , 0.  , 1.  , 0.  ],\n",
       "       [0.  , 0.  , 0.02, 0.98],\n",
       "       [0.  , 0.  , 1.  , 0.  ],\n",
       "       [0.  , 0.  , 1.  , 0.  ],\n",
       "       [0.  , 0.  , 1.  , 0.  ],\n",
       "       [0.9 , 0.  , 0.  , 0.1 ],\n",
       "       [0.  , 0.  , 1.  , 0.  ],\n",
       "       [0.  , 0.  , 1.  , 0.  ],\n",
       "       [0.  , 0.02, 0.98, 0.  ],\n",
       "       [0.  , 0.  , 1.  , 0.  ],\n",
       "       [0.22, 0.02, 0.32, 0.44],\n",
       "       [0.  , 0.06, 0.9 , 0.04],\n",
       "       [0.  , 0.02, 0.  , 0.98],\n",
       "       [0.  , 0.  , 0.6 , 0.4 ],\n",
       "       [0.  , 0.02, 0.76, 0.22],\n",
       "       [0.24, 0.  , 0.  , 0.76],\n",
       "       [0.04, 0.58, 0.06, 0.32],\n",
       "       [0.12, 0.  , 0.  , 0.88],\n",
       "       [0.  , 0.  , 0.  , 1.  ],\n",
       "       [0.  , 0.  , 0.  , 1.  ],\n",
       "       [1.  , 0.  , 0.  , 0.  ],\n",
       "       [0.04, 0.  , 0.04, 0.92],\n",
       "       [0.  , 0.78, 0.22, 0.  ],\n",
       "       [0.02, 0.76, 0.04, 0.18],\n",
       "       [1.  , 0.  , 0.  , 0.  ],\n",
       "       [0.04, 0.  , 0.04, 0.92],\n",
       "       [0.  , 0.06, 0.86, 0.08],\n",
       "       [0.  , 0.  , 0.2 , 0.8 ],\n",
       "       [0.  , 0.  , 0.  , 1.  ],\n",
       "       [0.94, 0.  , 0.  , 0.06],\n",
       "       [1.  , 0.  , 0.  , 0.  ],\n",
       "       [0.  , 0.  , 0.02, 0.98],\n",
       "       [0.  , 0.02, 0.12, 0.86],\n",
       "       [0.08, 0.06, 0.  , 0.86],\n",
       "       [0.  , 0.  , 0.  , 1.  ],\n",
       "       [0.  , 0.  , 1.  , 0.  ],\n",
       "       [0.94, 0.  , 0.  , 0.06],\n",
       "       [0.92, 0.02, 0.  , 0.06],\n",
       "       [0.  , 0.02, 0.98, 0.  ],\n",
       "       [0.  , 0.  , 1.  , 0.  ],\n",
       "       [0.02, 0.06, 0.  , 0.92],\n",
       "       [0.66, 0.  , 0.  , 0.34],\n",
       "       [0.  , 0.  , 0.98, 0.02],\n",
       "       [0.  , 0.  , 1.  , 0.  ],\n",
       "       [0.  , 0.02, 0.54, 0.44]])"
      ]
     },
     "execution_count": 9,
     "metadata": {},
     "output_type": "execute_result"
    }
   ],
   "source": [
    "clf.predict_proba(df_test[all_feat])"
   ]
  },
  {
   "cell_type": "code",
   "execution_count": 27,
   "metadata": {},
   "outputs": [
    {
     "data": {
      "text/plain": [
       "['RF_featselect_Spearman.joblib']"
      ]
     },
     "execution_count": 27,
     "metadata": {},
     "output_type": "execute_result"
    }
   ],
   "source": [
    "from joblib import dump, load\n",
    "# dump(clf, 'RF_model_PCA_Global_train_saved.joblib')\n",
    "# dump(pca, \"pca_transform_train.joblib\")\n",
    "dump(clf, \"RF_featselect_Spearman.joblib\")"
   ]
  },
  {
   "cell_type": "code",
   "execution_count": 69,
   "metadata": {},
   "outputs": [],
   "source": [
    "pred = clf.predict(df_test[feat_rfe])"
   ]
  },
  {
   "cell_type": "code",
   "execution_count": 88,
   "metadata": {},
   "outputs": [],
   "source": [
    "predi2 = clf.predict(df_test[['cov100_percent_0.9', 'cov500_percent_mean', 'cov500_percent_0.3',\n",
    "       'cov500_percent_0.5', 'cov500_percent_0.7', 'cov500_percent_0.9',\n",
    "       'OPT_percent', 'Frequency_norm_mean', 'Frequency_norm_median',\n",
    "       'Frequency_norm_0.3', 'Frequency_norm_0.5', 'Quality_norm_mean',\n",
    "       'Quality_norm_median', 'Quality_norm_0.3', 'Coverage_norm_mean',\n",
    "       'Coverage_norm_median', 'Coverage_norm_0.3', 'Coverage_norm_0.5',\n",
    "       'Coverage_norm_0.7', 'Coverage_norm_0.9', 'Allele Cov_norm_mean',\n",
    "       'Allele Cov_norm_median', 'Allele Cov_norm_0.9',\n",
    "       'longueur_norm_mean', 'longueur_norm_median']])"
   ]
  },
  {
   "cell_type": "code",
   "execution_count": 76,
   "metadata": {},
   "outputs": [],
   "source": [
    "df_test.loc[:, \"pred_rfe_feat\"] = pred"
   ]
  },
  {
   "cell_type": "code",
   "execution_count": 50,
   "metadata": {},
   "outputs": [
    {
     "data": {
      "text/plain": [
       "array([[0.90123457, 0.        , 0.09876543, 0.        ],\n",
       "       [0.        , 0.68181818, 0.31818182, 0.        ],\n",
       "       [0.        , 0.        , 1.        , 0.        ],\n",
       "       [0.        , 0.        , 0.06666667, 0.93333333]])"
      ]
     },
     "execution_count": 50,
     "metadata": {},
     "output_type": "execute_result"
    }
   ],
   "source": [
    "from sklearn.metrics import confusion_matrix\n",
    "\n",
    "confusion_matrix(df_test[\"classe\"], pred, normalize=\"true\", labels=[\"OPT\", \"NC\", \"SOPT\", \"NVA\"])"
   ]
  },
  {
   "cell_type": "code",
   "execution_count": 74,
   "metadata": {},
   "outputs": [
    {
     "data": {
      "text/plain": [
       "array([[0.95061728, 0.        , 0.04938272, 0.        ],\n",
       "       [0.        , 0.81818182, 0.18181818, 0.        ],\n",
       "       [0.01960784, 0.07843137, 0.90196078, 0.        ],\n",
       "       [0.        , 0.        , 0.06666667, 0.93333333]])"
      ]
     },
     "execution_count": 74,
     "metadata": {},
     "output_type": "execute_result"
    }
   ],
   "source": [
    "#nouveau\n",
    "confusion_matrix(df_test[\"classe\"], pred, normalize=\"true\", labels=[\"OPT\", \"NC\", \"SOPT\", \"NVA\"])"
   ]
  },
  {
   "cell_type": "code",
   "execution_count": 53,
   "metadata": {},
   "outputs": [
    {
     "data": {
      "text/plain": [
       "array([[73,  0,  8,  0],\n",
       "       [ 0, 15,  7,  0],\n",
       "       [ 0,  0, 51,  0],\n",
       "       [ 0,  0,  2, 28]], dtype=int64)"
      ]
     },
     "execution_count": 53,
     "metadata": {},
     "output_type": "execute_result"
    }
   ],
   "source": [
    "confusion_matrix(df_test[\"classe\"], pred, labels=[\"OPT\", \"NC\", \"SOPT\", \"NVA\"])"
   ]
  },
  {
   "cell_type": "code",
   "execution_count": 72,
   "metadata": {},
   "outputs": [
    {
     "data": {
      "text/plain": [
       "array([[77,  0,  4,  0],\n",
       "       [ 0, 18,  4,  0],\n",
       "       [ 1,  4, 46,  0],\n",
       "       [ 0,  0,  2, 28]], dtype=int64)"
      ]
     },
     "execution_count": 72,
     "metadata": {},
     "output_type": "execute_result"
    }
   ],
   "source": [
    "#nouveau\n",
    "confusion_matrix(df_test[\"classe\"], pred, labels=[\"OPT\", \"NC\", \"SOPT\", \"NVA\"])"
   ]
  },
  {
   "cell_type": "code",
   "execution_count": 77,
   "metadata": {},
   "outputs": [
    {
     "data": {
      "text/plain": [
       "array([0.96855346, 0.81818182, 0.85981308, 0.96551724])"
      ]
     },
     "execution_count": 77,
     "metadata": {},
     "output_type": "execute_result"
    }
   ],
   "source": [
    "#nouveau\n",
    "from sklearn.metrics import f1_score\n",
    "f1_score(df_test[\"classe\"], df_test[\"pred_rfe_feat\"], labels = [\"OPT\", \"NC\", \"SOPT\", \"NVA\"], average = None)"
   ]
  },
  {
   "cell_type": "code",
   "execution_count": 78,
   "metadata": {},
   "outputs": [],
   "source": [
    "RF_global_RFE = load(\"RF_featselect_RFE.joblib\")"
   ]
  },
  {
   "cell_type": "code",
   "execution_count": 83,
   "metadata": {},
   "outputs": [],
   "source": [
    "predi = RF_global_RFE.predict(df_test[['cov100_percent_0.9', 'cov500_percent_mean', 'cov500_percent_0.3',\n",
    "       'cov500_percent_0.5', 'cov500_percent_0.7', 'cov500_percent_0.9',\n",
    "       'OPT_percent', 'Frequency_norm_mean', 'Frequency_norm_median',\n",
    "       'Frequency_norm_0.3', 'Frequency_norm_0.5', 'Quality_norm_mean',\n",
    "       'Quality_norm_median', 'Quality_norm_0.3', 'Coverage_norm_mean',\n",
    "       'Coverage_norm_median', 'Coverage_norm_0.3', 'Coverage_norm_0.5',\n",
    "       'Coverage_norm_0.7', 'Coverage_norm_0.9', 'Allele Cov_norm_mean',\n",
    "       'Allele Cov_norm_median', 'Allele Cov_norm_0.9',\n",
    "       'longueur_norm_mean', 'longueur_norm_median']])"
   ]
  },
  {
   "cell_type": "code",
   "execution_count": 86,
   "metadata": {},
   "outputs": [
    {
     "data": {
      "text/plain": [
       "array([[74,  0,  7,  0],\n",
       "       [ 0, 15,  7,  0],\n",
       "       [ 0,  0, 51,  0],\n",
       "       [ 0,  0,  2, 28]], dtype=int64)"
      ]
     },
     "execution_count": 86,
     "metadata": {},
     "output_type": "execute_result"
    }
   ],
   "source": [
    "confusion_matrix(df_test[\"classe\"], predi, labels=[\"OPT\", \"NC\", \"SOPT\", \"NVA\"])"
   ]
  },
  {
   "cell_type": "code",
   "execution_count": 84,
   "metadata": {},
   "outputs": [
    {
     "data": {
      "text/plain": [
       "array([0.95483871, 0.81081081, 0.86440678, 0.96551724])"
      ]
     },
     "execution_count": 84,
     "metadata": {},
     "output_type": "execute_result"
    }
   ],
   "source": [
    "f1_score(df_test[\"classe\"], predi, labels = [\"OPT\", \"NC\", \"SOPT\", \"NVA\"], average = None)"
   ]
  },
  {
   "cell_type": "code",
   "execution_count": 89,
   "metadata": {},
   "outputs": [
    {
     "data": {
      "text/plain": [
       "array([[77,  0,  4,  0],\n",
       "       [ 0, 18,  4,  0],\n",
       "       [ 1,  5, 45,  0],\n",
       "       [ 1,  0,  2, 27]], dtype=int64)"
      ]
     },
     "execution_count": 89,
     "metadata": {},
     "output_type": "execute_result"
    }
   ],
   "source": [
    "confusion_matrix(df_test[\"classe\"], predi2, labels=[\"OPT\", \"NC\", \"SOPT\", \"NVA\"])"
   ]
  },
  {
   "cell_type": "code",
   "execution_count": 90,
   "metadata": {},
   "outputs": [
    {
     "data": {
      "text/plain": [
       "array([0.9625    , 0.8       , 0.8490566 , 0.94736842])"
      ]
     },
     "execution_count": 90,
     "metadata": {},
     "output_type": "execute_result"
    }
   ],
   "source": [
    "f1_score(df_test[\"classe\"], predi2, labels = [\"OPT\", \"NC\", \"SOPT\", \"NVA\"], average = None)"
   ]
  }
 ],
 "metadata": {
  "interpreter": {
   "hash": "33014acfdbcb810986e99ea7f22d389c01d2d0c67e299eb7de05698aab0e874d"
  },
  "kernelspec": {
   "display_name": "Python 3.7.11 ('myenv')",
   "language": "python",
   "name": "python3"
  },
  "language_info": {
   "codemirror_mode": {
    "name": "ipython",
    "version": 3
   },
   "file_extension": ".py",
   "mimetype": "text/x-python",
   "name": "python",
   "nbconvert_exporter": "python",
   "pygments_lexer": "ipython3",
   "version": "3.7.11"
  },
  "orig_nbformat": 4
 },
 "nbformat": 4,
 "nbformat_minor": 2
}
