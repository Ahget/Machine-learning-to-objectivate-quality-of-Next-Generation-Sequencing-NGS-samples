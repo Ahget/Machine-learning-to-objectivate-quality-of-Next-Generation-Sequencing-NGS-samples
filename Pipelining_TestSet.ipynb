{
 "cells": [
  {
   "cell_type": "markdown",
   "metadata": {},
   "source": [
    "Une fois que les données d'entrainement ont subit la pipeline et entrainé les modeles, l'ensemble de test va subir cette pipeline avec les modèles entrainés par l'ensemble d'entraînement. l'ensemble de test subit la pipeline dans ce script."
   ]
  },
  {
   "cell_type": "code",
   "execution_count": 1,
   "metadata": {},
   "outputs": [],
   "source": [
    "import os \n",
    "import pandas as pd\n",
    "import numpy as np\n",
    "import matplotlib.pyplot as plt\n",
    "import seaborn as sns\n",
    "import scipy as sp"
   ]
  },
  {
   "cell_type": "code",
   "execution_count": 2,
   "metadata": {},
   "outputs": [],
   "source": [
    "path = r\"C:\\Users\\ahmed\\MFE project\"    \n",
    "df_tsv = pd.read_csv(os.path.join(path, [i for i in os.listdir(path) if i.find(\"DataBase_Norm_tsv\")>-1][0])).fillna(0)\n",
    "df_test = pd.read_csv(os.path.join(path, [i for i in os.listdir(path) if i.find(\"addfeat_Test_Amplicon\")>-1][0])).fillna(0)"
   ]
  },
  {
   "cell_type": "code",
   "execution_count": 14,
   "metadata": {},
   "outputs": [],
   "source": [
    "from joblib import dump, load\n",
    "# to load the model\n",
    "RF_local_loaded = load('RF_model_train_saved.joblib')\n",
    "DT_local_loaded = load('DT_model_train_saved.joblib')\n",
    "DT_local_loaded2 = load('DT_model_train_saved2.joblib')\n",
    "scaler_loaded = load('normalizeMinMax_tsv_saved.joblib')\n",
    "\n",
    "RF_global_loaded = load('RF_model_Global_train_saved.joblib')\n",
    "RF_global_featselect = load(\"RF_featselect.joblib\")\n",
    "\n",
    "RF_global_RFE = load(\"RF_featselect_RFE.joblib\")\n",
    "RF_global_spearman = load(\"RF_featselect_Spearman.joblib\")"
   ]
  },
  {
   "cell_type": "markdown",
   "metadata": {},
   "source": [
    "step 1: avoir la colonne disant si une séquence est OPT avec un RF (local)"
   ]
  },
  {
   "cell_type": "code",
   "execution_count": 15,
   "metadata": {},
   "outputs": [],
   "source": [
    "New_var1 = ['gc_percent', 'cov500_percent', 'fwd_e2e_percent', 'rev_e2e_percent']\n",
    "\n",
    "pred = DT_local_loaded2.predict(df_test[New_var1])"
   ]
  },
  {
   "cell_type": "code",
   "execution_count": 5,
   "metadata": {},
   "outputs": [
    {
     "data": {
      "text/plain": [
       "array([[0.9768119 , 0.0231881 , 0.        , 0.        ],\n",
       "       [0.11335891, 0.88664109, 0.        , 0.        ],\n",
       "       [0.68522841, 0.31477159, 0.        , 0.        ],\n",
       "       [0.90778971, 0.09221029, 0.        , 0.        ]])"
      ]
     },
     "execution_count": 5,
     "metadata": {},
     "output_type": "execute_result"
    }
   ],
   "source": [
    "from sklearn.metrics import confusion_matrix\n",
    "# avec le Decision Tree\n",
    "confusion_matrix(df_test[\"classe\"], pred, normalize=\"true\", labels=[\"OPT\", \"NC\", \"SOPT\", \"NVA\"])"
   ]
  },
  {
   "cell_type": "code",
   "execution_count": 6,
   "metadata": {},
   "outputs": [
    {
     "data": {
      "text/plain": [
       "array([[0.97265259, 0.02734741, 0.        , 0.        ],\n",
       "       [0.1147541 , 0.8852459 , 0.        , 0.        ],\n",
       "       [0.68172724, 0.31827276, 0.        , 0.        ],\n",
       "       [0.91439582, 0.08560418, 0.        , 0.        ]])"
      ]
     },
     "execution_count": 6,
     "metadata": {},
     "output_type": "execute_result"
    }
   ],
   "source": [
    "RFTuned_local_loaded = load('RFTuned_model_train_saved.joblib')\n",
    "pred = RFTuned_local_loaded.predict(df_test[New_var1])\n",
    "confusion_matrix(df_test[\"classe\"], pred, normalize=\"true\", labels=[\"OPT\", \"NC\", \"SOPT\", \"NVA\"])"
   ]
  },
  {
   "cell_type": "code",
   "execution_count": 8,
   "metadata": {},
   "outputs": [
    {
     "data": {
      "text/plain": [
       "array([[0.97753977, 0.02246023, 0.        , 0.        ],\n",
       "       [0.11231252, 0.88768748, 0.        , 0.        ],\n",
       "       [0.68989663, 0.31010337, 0.        , 0.        ],\n",
       "       [0.91714836, 0.08285164, 0.        , 0.        ]])"
      ]
     },
     "execution_count": 8,
     "metadata": {},
     "output_type": "execute_result"
    }
   ],
   "source": [
    "\n",
    "from sklearn.metrics import confusion_matrix\n",
    "\n",
    "confusion_matrix(df_test[\"classe\"], pred, normalize=\"true\", labels=[\"OPT\", \"NC\", \"SOPT\", \"NVA\"])"
   ]
  },
  {
   "cell_type": "code",
   "execution_count": 16,
   "metadata": {},
   "outputs": [],
   "source": [
    "df_test.loc[:, \"pred\"] = pred"
   ]
  },
  {
   "cell_type": "markdown",
   "metadata": {},
   "source": [
    "step 2: avoir les variables variables globales du fichier amplicon (variables ajoutées + % de séquences OPT) (Global)"
   ]
  },
  {
   "cell_type": "code",
   "execution_count": 7,
   "metadata": {},
   "outputs": [],
   "source": [
    "# des fonctions pour extraire les variables globales\n",
    "def Extract_glob_feat(df, feat, longueur):\n",
    "    nume = []\n",
    "    nume.append(np.array([1 for i in df[feat].values if i>0.3]).sum()/longueur)\n",
    "    nume.append(np.array([1 for i in df[feat].values if i>0.5]).sum()/longueur)\n",
    "    nume.append(np.array([1 for i in df[feat].values if i>0.7]).sum()/longueur)\n",
    "    nume.append(np.array([1 for i in df[feat].values if i>0.9]).sum()/longueur)\n",
    "    df_res = pd.DataFrame(data = [[df[feat].mean(), df[feat].median(), nume[0], nume[1], nume[2], nume[3]]] , columns = [feat+\"_mean\", feat+\"_median\", feat+\"_\"+str(0.3), feat+\"_\"+str(0.5), feat+\"_\"+str(0.7), feat+\"_\"+str(0.9)])\n",
    "    return df_res\n",
    "    \n",
    "def extract_all_var(df, variables, longueur):\n",
    "    list_df = []\n",
    "    for feat in variables:\n",
    "        df_t = Extract_glob_feat(df, feat, longueur)\n",
    "        list_df.append(df_t)\n",
    "    df_tot = pd.concat(list_df, axis = 1)\n",
    "    return df_tot"
   ]
  },
  {
   "cell_type": "code",
   "execution_count": 17,
   "metadata": {},
   "outputs": [],
   "source": [
    "var_percent = ['gc_percent', 'cov20_percent', 'cov100_percent', 'cov500_percent', 'fwd_e2e_percent', 'rev_e2e_percent']\n",
    "\n",
    "ordr = list(dict.fromkeys(df_test[\"ordre\"].values))\n",
    "resultat = []\n",
    "\n",
    "\n",
    "for i in ordr:\n",
    "    df_tru = df_test[df_test[\"ordre\"]==i]\n",
    "    longueur = df_tru[\"longueur\"].values[0]\n",
    "# information des variables en pourcent\n",
    "    df_var = extract_all_var(df_tru, var_percent, longueur)\n",
    "\n",
    "\n",
    "# information sur la classe\n",
    "    df_var.loc[:,\"ordre\"] = i\n",
    "    df_var.loc[:, \"type\"] = df_tru[\"type\"].values[0]\n",
    "    df_var.loc[:, \"date\"] = df_tru[\"date\"].values[0]\n",
    "    df_var.loc[:, \"classe\"] = df_tru[\"classe\"].values[0]\n",
    "    df_var.loc[:, \"num2\"] = df_tru[\"num2\"].values[0]\n",
    "    df_var.loc[:, \"longueur\"] = longueur\n",
    "\n",
    "# varible globale % de OPT\n",
    "    OPT = np.array([1 for i in range(len(df_tru)) if df_tru[\"pred\"].values[i]==\"OPT\"]).sum()\n",
    "    OPT_percent = OPT/longueur\n",
    "\n",
    "    df_var.loc[:, \"OPT_percent\"] = OPT_percent\n",
    "\n",
    "# création de la base de données / CSV\n",
    "    resultat.append(df_var)\n",
    "df_resul = pd.concat(resultat)\n",
    "df_resul.index = range(len(df_resul))"
   ]
  },
  {
   "cell_type": "markdown",
   "metadata": {},
   "source": [
    "step 3: y ajouter des variables globales venant du fichier TSV. (avant cela, vérifier s'ils ont les mêmes fichiers. Il se peut qu'un dossier contienne un fichier amplicon sans pour autant avoir de fichier TSV) (Global)"
   ]
  },
  {
   "cell_type": "code",
   "execution_count": 9,
   "metadata": {},
   "outputs": [],
   "source": [
    "ordr_amp = sorted(list(dict.fromkeys(df_resul[\"ordre\"].values)))\n",
    "ordr_amp = [i for i in ordr_amp if i!=532]\n",
    "ordr_amp = [i for i in ordr_amp if i!=567]\n",
    "\n",
    "df_amp_test = pd.concat([df_resul[df_resul[\"ordre\"]==i] for i in ordr_amp])\n",
    "df_tsv_train = pd.concat([df_tsv[df_tsv[\"ordre\"]==i] for i in ordr_amp])"
   ]
  },
  {
   "cell_type": "code",
   "execution_count": 10,
   "metadata": {},
   "outputs": [],
   "source": [
    "# verifier s'ils ont bien les mêmes \"ordre\"\n",
    "ordr_tsv = sorted(list(dict.fromkeys(df_tsv_train[\"ordre\"].values)))\n",
    "for i in range(len(ordr_amp)):\n",
    "    if ordr_amp[i]!=ordr_tsv[i]:\n",
    "        print(i, ordr_amp[i], ordr_tsv[i])"
   ]
  },
  {
   "cell_type": "code",
   "execution_count": 11,
   "metadata": {},
   "outputs": [],
   "source": [
    "var_percent = ['Frequency_norm', 'Quality_norm', 'Coverage_norm',\n",
    "       'Allele Cov_norm', 'longueur_norm']\n",
    "\n",
    "ordr = list(dict.fromkeys(df_tsv_train[\"ordre\"].values))\n",
    "resultat = []\n",
    "\n",
    "for i in ordr:\n",
    "    df_tru = df_tsv_train[df_tsv_train[\"ordre\"]==i]\n",
    "    longueur = df_tru[\"longueur\"].values[0]\n",
    "# information des variables en pourcent\n",
    "    df_var = extract_all_var(df_tru, var_percent, longueur)\n",
    "\n",
    "# création de la base de données / CSV\n",
    "    resultat.append(df_var)\n",
    "df_resultsv = pd.concat(resultat)\n",
    "df_resultsv.index = range(len(df_resultsv))"
   ]
  },
  {
   "cell_type": "code",
   "execution_count": 18,
   "metadata": {},
   "outputs": [],
   "source": [
    "df_amp_test.index = range(len(df_amp_test))\n",
    "df_test_global = pd.concat([df_amp_test, df_resultsv], axis = 1)"
   ]
  },
  {
   "cell_type": "code",
   "execution_count": 19,
   "metadata": {},
   "outputs": [],
   "source": [
    "df_test_global.to_csv('Database_Global_Test_AmpliconDT_TSV.csv')"
   ]
  },
  {
   "cell_type": "markdown",
   "metadata": {},
   "source": [
    "step 4: maintenant que nous avons la base de données globales (amplicon + tsv), nous pouvons utiliser le RF pour avoir notre résultat final."
   ]
  },
  {
   "cell_type": "code",
   "execution_count": 12,
   "metadata": {},
   "outputs": [],
   "source": [
    "#toutes les variables\n",
    "df_input = df_test_global[['gc_percent_mean', 'gc_percent_median',\n",
    "       'gc_percent_0.3', 'gc_percent_0.5', 'gc_percent_0.7', 'gc_percent_0.9',\n",
    "       'cov20_percent_mean', 'cov20_percent_median', 'cov20_percent_0.3',\n",
    "       'cov20_percent_0.5', 'cov20_percent_0.7', 'cov20_percent_0.9',\n",
    "       'cov100_percent_mean', 'cov100_percent_median', 'cov100_percent_0.3',\n",
    "       'cov100_percent_0.5', 'cov100_percent_0.7', 'cov100_percent_0.9',\n",
    "       'cov500_percent_mean', 'cov500_percent_median', 'cov500_percent_0.3',\n",
    "       'cov500_percent_0.5', 'cov500_percent_0.7', 'cov500_percent_0.9',\n",
    "       'fwd_e2e_percent_mean', 'fwd_e2e_percent_median', 'fwd_e2e_percent_0.3',\n",
    "       'fwd_e2e_percent_0.5', 'fwd_e2e_percent_0.7', 'fwd_e2e_percent_0.9',\n",
    "       'rev_e2e_percent_mean', 'rev_e2e_percent_median', 'rev_e2e_percent_0.3',\n",
    "       'rev_e2e_percent_0.5', 'rev_e2e_percent_0.7', 'rev_e2e_percent_0.9', 'longueur', 'OPT_percent',\n",
    "       'Frequency_norm_mean', 'Frequency_norm_median', 'Frequency_norm_0.3',\n",
    "       'Frequency_norm_0.5', 'Frequency_norm_0.7', 'Frequency_norm_0.9',\n",
    "       'Quality_norm_mean', 'Quality_norm_median', 'Quality_norm_0.3',\n",
    "       'Quality_norm_0.5', 'Quality_norm_0.7', 'Quality_norm_0.9',\n",
    "       'Coverage_norm_mean', 'Coverage_norm_median', 'Coverage_norm_0.3',\n",
    "       'Coverage_norm_0.5', 'Coverage_norm_0.7', 'Coverage_norm_0.9',\n",
    "       'Allele Cov_norm_mean', 'Allele Cov_norm_median', 'Allele Cov_norm_0.3',\n",
    "       'Allele Cov_norm_0.5', 'Allele Cov_norm_0.7', 'Allele Cov_norm_0.9',\n",
    "       'longueur_norm_mean', 'longueur_norm_median', 'longueur_norm_0.3',\n",
    "       'longueur_norm_0.5', 'longueur_norm_0.7', 'longueur_norm_0.9']].fillna(0)\n",
    "df_output = df_test_global[\"classe\"]"
   ]
  },
  {
   "cell_type": "code",
   "execution_count": 17,
   "metadata": {},
   "outputs": [],
   "source": [
    "#feature selection avec correlation de pearson >0.9\n",
    "df_input = df_test_global[['gc_percent_mean', 'gc_percent_0.7',\n",
    "       'cov20_percent_mean', 'cov20_percent_median', 'cov100_percent_mean',\n",
    "       'fwd_e2e_percent_mean', 'fwd_e2e_percent_median', 'fwd_e2e_percent_0.3',\n",
    "       'fwd_e2e_percent_0.9', 'OPT_percent', 'longueur',\n",
    "       'Frequency_norm_mean', 'Frequency_norm_0.7',\n",
    "       'Quality_norm_mean', 'Quality_norm_0.7', 'Quality_norm_0.9',\n",
    "       'Coverage_norm_mean','Coverage_norm_0.9',\n",
    "       'longueur_norm_mean', 'longueur_norm_0.3',\n",
    "       'longueur_norm_0.5', 'longueur_norm_0.7']].fillna(0)\n",
    "df_output = df_test_global[\"classe\"]"
   ]
  },
  {
   "cell_type": "code",
   "execution_count": 19,
   "metadata": {},
   "outputs": [],
   "source": [
    "#feature selection avec correlation de spearman >0.9\n",
    "df_input = df_test_global[['gc_percent_mean',\n",
    "       'gc_percent_0.3', 'gc_percent_0.5', 'gc_percent_0.9',\n",
    "       'cov20_percent_mean', 'cov20_percent_median', 'cov100_percent_mean', 'cov100_percent_median',\n",
    "       'cov500_percent_median', 'fwd_e2e_percent_mean', 'fwd_e2e_percent_median', 'fwd_e2e_percent_0.3',\n",
    "       'fwd_e2e_percent_0.5', 'fwd_e2e_percent_0.7', 'fwd_e2e_percent_0.9',\n",
    "       'rev_e2e_percent_mean', 'rev_e2e_percent_0.3',\n",
    "       'rev_e2e_percent_0.5', 'rev_e2e_percent_0.7', 'rev_e2e_percent_0.9', 'longueur', 'OPT_percent',\n",
    "       'Frequency_norm_mean', 'Frequency_norm_0.3',\n",
    "       'Quality_norm_mean',\n",
    "       'Quality_norm_0.5', 'Quality_norm_0.7', 'Quality_norm_0.9',\n",
    "       'Coverage_norm_mean',\n",
    "       'longueur_norm_mean', 'longueur_norm_0.3',\n",
    "       'longueur_norm_0.5', 'longueur_norm_0.7', 'longueur_norm_0.9']].fillna(0)\n",
    "df_output = df_test_global[\"classe\"]"
   ]
  },
  {
   "cell_type": "code",
   "execution_count": 13,
   "metadata": {},
   "outputs": [],
   "source": [
    "#feature selection RFE\n",
    "df_input = df_test_global[['cov100_percent_0.9', 'cov500_percent_mean', 'cov500_percent_0.3',\n",
    "       'cov500_percent_0.5', 'cov500_percent_0.7', 'cov500_percent_0.9',\n",
    "       'OPT_percent', 'Frequency_norm_mean', 'Frequency_norm_median',\n",
    "       'Frequency_norm_0.3', 'Frequency_norm_0.5', 'Quality_norm_mean',\n",
    "       'Quality_norm_median', 'Quality_norm_0.3', 'Coverage_norm_mean',\n",
    "       'Coverage_norm_median', 'Coverage_norm_0.3', 'Coverage_norm_0.5',\n",
    "       'Coverage_norm_0.7', 'Coverage_norm_0.9', 'Allele Cov_norm_mean',\n",
    "       'Allele Cov_norm_median', 'Allele Cov_norm_0.9',\n",
    "       'longueur_norm_mean', 'longueur_norm_median']].fillna(0)\n",
    "df_output = df_test_global[\"classe\"]"
   ]
  },
  {
   "cell_type": "code",
   "execution_count": 38,
   "metadata": {},
   "outputs": [],
   "source": [
    "df_feat = pd.DataFrame( RF_global_loaded.feature_importances_, index = ['gc_percent_mean', 'gc_percent_median',\n",
    "       'gc_percent_0.3', 'gc_percent_0.5', 'gc_percent_0.7', 'gc_percent_0.9',\n",
    "       'cov20_percent_mean', 'cov20_percent_median', 'cov20_percent_0.3',\n",
    "       'cov20_percent_0.5', 'cov20_percent_0.7', 'cov20_percent_0.9',\n",
    "       'cov100_percent_mean', 'cov100_percent_median', 'cov100_percent_0.3',\n",
    "       'cov100_percent_0.5', 'cov100_percent_0.7', 'cov100_percent_0.9',\n",
    "       'cov500_percent_mean', 'cov500_percent_median', 'cov500_percent_0.3',\n",
    "       'cov500_percent_0.5', 'cov500_percent_0.7', 'cov500_percent_0.9',\n",
    "       'fwd_e2e_percent_mean', 'fwd_e2e_percent_median', 'fwd_e2e_percent_0.3',\n",
    "       'fwd_e2e_percent_0.5', 'fwd_e2e_percent_0.7', 'fwd_e2e_percent_0.9',\n",
    "       'rev_e2e_percent_mean', 'rev_e2e_percent_median', 'rev_e2e_percent_0.3',\n",
    "       'rev_e2e_percent_0.5', 'rev_e2e_percent_0.7', 'rev_e2e_percent_0.9', 'longueur', 'OPT_percent',\n",
    "       'Frequency_norm_mean', 'Frequency_norm_median', 'Frequency_norm_0.3',\n",
    "       'Frequency_norm_0.5', 'Frequency_norm_0.7', 'Frequency_norm_0.9',\n",
    "       'Quality_norm_mean', 'Quality_norm_median', 'Quality_norm_0.3',\n",
    "       'Quality_norm_0.5', 'Quality_norm_0.7', 'Quality_norm_0.9',\n",
    "       'Coverage_norm_mean', 'Coverage_norm_median', 'Coverage_norm_0.3',\n",
    "       'Coverage_norm_0.5', 'Coverage_norm_0.7', 'Coverage_norm_0.9',\n",
    "       'Allele Cov_norm_mean', 'Allele Cov_norm_median', 'Allele Cov_norm_0.3',\n",
    "       'Allele Cov_norm_0.5', 'Allele Cov_norm_0.7', 'Allele Cov_norm_0.9',\n",
    "       'longueur_norm_mean', 'longueur_norm_median', 'longueur_norm_0.3',\n",
    "       'longueur_norm_0.5', 'longueur_norm_0.7', 'longueur_norm_0.9'])"
   ]
  },
  {
   "cell_type": "code",
   "execution_count": 47,
   "metadata": {},
   "outputs": [
    {
     "data": {
      "text/plain": [
       "Index(['OPT_percent', 'Coverage_norm_mean', 'cov500_percent_mean',\n",
       "       'cov500_percent_0.5', 'cov500_percent_0.3', 'cov500_percent_0.9',\n",
       "       'cov500_percent_0.7', 'Coverage_norm_median', 'longueur_norm_median',\n",
       "       'Quality_norm_median', 'Frequency_norm_mean', 'longueur_norm_mean',\n",
       "       'Coverage_norm_0.5', 'Quality_norm_0.3', 'Frequency_norm_median',\n",
       "       'Allele Cov_norm_mean', 'Allele Cov_norm_0.3', 'Coverage_norm_0.7',\n",
       "       'Frequency_norm_0.3', 'Allele Cov_norm_median', 'Coverage_norm_0.3',\n",
       "       'Quality_norm_mean', 'cov100_percent_0.9', 'Allele Cov_norm_0.7',\n",
       "       'cov500_percent_median'],\n",
       "      dtype='object')"
      ]
     },
     "execution_count": 47,
     "metadata": {},
     "output_type": "execute_result"
    }
   ],
   "source": [
    "df_feat.sort_values(by = 0, ascending=False)[:25].index"
   ]
  },
  {
   "cell_type": "code",
   "execution_count": 21,
   "metadata": {},
   "outputs": [],
   "source": [
    "pred_global = RF_global_spearman.predict(df_input)"
   ]
  },
  {
   "cell_type": "code",
   "execution_count": 22,
   "metadata": {},
   "outputs": [],
   "source": [
    "df_test_global.loc[:,\"pred_glob\"] = pred_global"
   ]
  },
  {
   "cell_type": "code",
   "execution_count": 23,
   "metadata": {},
   "outputs": [
    {
     "data": {
      "text/plain": [
       "array([[0.80246914, 0.        , 0.19753086, 0.        ],\n",
       "       [0.        , 0.68181818, 0.31818182, 0.        ],\n",
       "       [0.        , 0.01960784, 0.96078431, 0.01960784],\n",
       "       [0.03333333, 0.        , 0.03333333, 0.93333333]])"
      ]
     },
     "execution_count": 23,
     "metadata": {},
     "output_type": "execute_result"
    }
   ],
   "source": [
    "#spearman\n",
    "from sklearn.metrics import confusion_matrix\n",
    "confusion_matrix(df_output, pred_global, normalize=\"true\", labels=[\"OPT\", \"NC\", \"SOPT\", \"NVA\"])"
   ]
  },
  {
   "cell_type": "code",
   "execution_count": 24,
   "metadata": {},
   "outputs": [
    {
     "data": {
      "text/plain": [
       "array([[65,  0, 16,  0],\n",
       "       [ 0, 15,  7,  0],\n",
       "       [ 0,  1, 49,  1],\n",
       "       [ 1,  0,  1, 28]], dtype=int64)"
      ]
     },
     "execution_count": 24,
     "metadata": {},
     "output_type": "execute_result"
    }
   ],
   "source": [
    "confusion_matrix(df_output, pred_global, labels=[\"OPT\", \"NC\", \"SOPT\", \"NVA\"])"
   ]
  },
  {
   "cell_type": "code",
   "execution_count": 16,
   "metadata": {},
   "outputs": [
    {
     "data": {
      "text/plain": [
       "array([[0.91358025, 0.        , 0.08641975, 0.        ],\n",
       "       [0.        , 0.68181818, 0.31818182, 0.        ],\n",
       "       [0.        , 0.        , 1.        , 0.        ],\n",
       "       [0.        , 0.        , 0.06666667, 0.93333333]])"
      ]
     },
     "execution_count": 16,
     "metadata": {},
     "output_type": "execute_result"
    }
   ],
   "source": [
    "#RFE\n",
    "from sklearn.metrics import confusion_matrix\n",
    "confusion_matrix(df_output, pred_global, normalize=\"true\", labels=[\"OPT\", \"NC\", \"SOPT\", \"NVA\"])"
   ]
  },
  {
   "cell_type": "code",
   "execution_count": 17,
   "metadata": {},
   "outputs": [
    {
     "data": {
      "text/plain": [
       "array([[74,  0,  7,  0],\n",
       "       [ 0, 15,  7,  0],\n",
       "       [ 0,  0, 51,  0],\n",
       "       [ 0,  0,  2, 28]], dtype=int64)"
      ]
     },
     "execution_count": 17,
     "metadata": {},
     "output_type": "execute_result"
    }
   ],
   "source": [
    "confusion_matrix(df_output, pred_global, labels=[\"OPT\", \"NC\", \"SOPT\", \"NVA\"])"
   ]
  },
  {
   "cell_type": "code",
   "execution_count": 40,
   "metadata": {},
   "outputs": [],
   "source": [
    "rf_glob_amp = load('RF_model_amponly_Global_train_saved.joblib')\n",
    "predamp = rf_glob_amp.predict(df_input[['gc_percent_mean', 'gc_percent_median',\n",
    "       'gc_percent_0.3', 'gc_percent_0.5', 'gc_percent_0.7', 'gc_percent_0.9',\n",
    "       'cov20_percent_mean', 'cov20_percent_median', 'cov20_percent_0.3',\n",
    "       'cov20_percent_0.5', 'cov20_percent_0.7', 'cov20_percent_0.9',\n",
    "       'cov100_percent_mean', 'cov100_percent_median', 'cov100_percent_0.3',\n",
    "       'cov100_percent_0.5', 'cov100_percent_0.7', 'cov100_percent_0.9',\n",
    "       'cov500_percent_mean', 'cov500_percent_median', 'cov500_percent_0.3',\n",
    "       'cov500_percent_0.5', 'cov500_percent_0.7', 'cov500_percent_0.9',\n",
    "       'fwd_e2e_percent_mean', 'fwd_e2e_percent_median', 'fwd_e2e_percent_0.3',\n",
    "       'fwd_e2e_percent_0.5', 'fwd_e2e_percent_0.7', 'fwd_e2e_percent_0.9',\n",
    "       'rev_e2e_percent_mean', 'rev_e2e_percent_median', 'rev_e2e_percent_0.3',\n",
    "       'rev_e2e_percent_0.5', 'rev_e2e_percent_0.7', 'rev_e2e_percent_0.9', 'longueur', 'OPT_percent']])"
   ]
  },
  {
   "cell_type": "code",
   "execution_count": 41,
   "metadata": {},
   "outputs": [
    {
     "data": {
      "text/plain": [
       "array([[0.54320988, 0.        , 0.07407407, 0.38271605],\n",
       "       [0.        , 0.72727273, 0.27272727, 0.        ],\n",
       "       [0.        , 0.03921569, 0.92156863, 0.03921569],\n",
       "       [0.2       , 0.        , 0.33333333, 0.46666667]])"
      ]
     },
     "execution_count": 41,
     "metadata": {},
     "output_type": "execute_result"
    }
   ],
   "source": [
    "confusion_matrix(df_output, predamp, normalize=\"true\", labels=[\"OPT\", \"NC\", \"SOPT\", \"NVA\"])"
   ]
  },
  {
   "cell_type": "code",
   "execution_count": 44,
   "metadata": {},
   "outputs": [],
   "source": [
    "df_feat = pd.DataFrame( RF_global_loaded.feature_importances_, index = df_input.columns)"
   ]
  },
  {
   "cell_type": "code",
   "execution_count": 88,
   "metadata": {},
   "outputs": [
    {
     "data": {
      "text/html": [
       "<div>\n",
       "<style scoped>\n",
       "    .dataframe tbody tr th:only-of-type {\n",
       "        vertical-align: middle;\n",
       "    }\n",
       "\n",
       "    .dataframe tbody tr th {\n",
       "        vertical-align: top;\n",
       "    }\n",
       "\n",
       "    .dataframe thead th {\n",
       "        text-align: right;\n",
       "    }\n",
       "</style>\n",
       "<table border=\"1\" class=\"dataframe\">\n",
       "  <thead>\n",
       "    <tr style=\"text-align: right;\">\n",
       "      <th></th>\n",
       "      <th>0</th>\n",
       "    </tr>\n",
       "  </thead>\n",
       "  <tbody>\n",
       "    <tr>\n",
       "      <th>Allele Cov_norm_0.3</th>\n",
       "      <td>0.020041</td>\n",
       "    </tr>\n",
       "    <tr>\n",
       "      <th>Allele Cov_norm_mean</th>\n",
       "      <td>0.020231</td>\n",
       "    </tr>\n",
       "    <tr>\n",
       "      <th>Frequency_norm_median</th>\n",
       "      <td>0.021933</td>\n",
       "    </tr>\n",
       "    <tr>\n",
       "      <th>Quality_norm_0.3</th>\n",
       "      <td>0.022649</td>\n",
       "    </tr>\n",
       "    <tr>\n",
       "      <th>Coverage_norm_0.5</th>\n",
       "      <td>0.023216</td>\n",
       "    </tr>\n",
       "    <tr>\n",
       "      <th>longueur_norm_mean</th>\n",
       "      <td>0.024201</td>\n",
       "    </tr>\n",
       "    <tr>\n",
       "      <th>Frequency_norm_mean</th>\n",
       "      <td>0.025310</td>\n",
       "    </tr>\n",
       "    <tr>\n",
       "      <th>Quality_norm_median</th>\n",
       "      <td>0.029355</td>\n",
       "    </tr>\n",
       "    <tr>\n",
       "      <th>longueur_norm_median</th>\n",
       "      <td>0.029666</td>\n",
       "    </tr>\n",
       "    <tr>\n",
       "      <th>Coverage_norm_median</th>\n",
       "      <td>0.045488</td>\n",
       "    </tr>\n",
       "    <tr>\n",
       "      <th>cov500_percent_0.7</th>\n",
       "      <td>0.049617</td>\n",
       "    </tr>\n",
       "    <tr>\n",
       "      <th>cov500_percent_0.9</th>\n",
       "      <td>0.050274</td>\n",
       "    </tr>\n",
       "    <tr>\n",
       "      <th>cov500_percent_0.3</th>\n",
       "      <td>0.050769</td>\n",
       "    </tr>\n",
       "    <tr>\n",
       "      <th>cov500_percent_0.5</th>\n",
       "      <td>0.065470</td>\n",
       "    </tr>\n",
       "    <tr>\n",
       "      <th>cov500_percent_mean</th>\n",
       "      <td>0.075256</td>\n",
       "    </tr>\n",
       "    <tr>\n",
       "      <th>Coverage_norm_mean</th>\n",
       "      <td>0.095047</td>\n",
       "    </tr>\n",
       "    <tr>\n",
       "      <th>OPT_percent</th>\n",
       "      <td>0.142487</td>\n",
       "    </tr>\n",
       "  </tbody>\n",
       "</table>\n",
       "</div>"
      ],
      "text/plain": [
       "                              0\n",
       "Allele Cov_norm_0.3    0.020041\n",
       "Allele Cov_norm_mean   0.020231\n",
       "Frequency_norm_median  0.021933\n",
       "Quality_norm_0.3       0.022649\n",
       "Coverage_norm_0.5      0.023216\n",
       "longueur_norm_mean     0.024201\n",
       "Frequency_norm_mean    0.025310\n",
       "Quality_norm_median    0.029355\n",
       "longueur_norm_median   0.029666\n",
       "Coverage_norm_median   0.045488\n",
       "cov500_percent_0.7     0.049617\n",
       "cov500_percent_0.9     0.050274\n",
       "cov500_percent_0.3     0.050769\n",
       "cov500_percent_0.5     0.065470\n",
       "cov500_percent_mean    0.075256\n",
       "Coverage_norm_mean     0.095047\n",
       "OPT_percent            0.142487"
      ]
     },
     "execution_count": 88,
     "metadata": {},
     "output_type": "execute_result"
    }
   ],
   "source": [
    "df_feat[df_feat[0]>0.02].sort_values(by= 0)"
   ]
  },
  {
   "cell_type": "code",
   "execution_count": 84,
   "metadata": {},
   "outputs": [],
   "source": [
    "pca = load(\"pca_transform_train.joblib\")\n",
    "clr_RF_PCA = load(\"RF_model_PCA_Global_train_saved.joblib\")"
   ]
  },
  {
   "cell_type": "code",
   "execution_count": 70,
   "metadata": {},
   "outputs": [],
   "source": [
    "df_input = df_test_global[['gc_percent_mean', 'gc_percent_median',\n",
    "       'gc_percent_0.3', 'gc_percent_0.5', 'gc_percent_0.7', 'gc_percent_0.9',\n",
    "       'cov20_percent_mean', 'cov20_percent_median', 'cov20_percent_0.3',\n",
    "       'cov20_percent_0.5', 'cov20_percent_0.7', 'cov20_percent_0.9',\n",
    "       'cov100_percent_mean', 'cov100_percent_median', 'cov100_percent_0.3',\n",
    "       'cov100_percent_0.5', 'cov100_percent_0.7', 'cov100_percent_0.9',\n",
    "       'cov500_percent_mean', 'cov500_percent_median', 'cov500_percent_0.3',\n",
    "       'cov500_percent_0.5', 'cov500_percent_0.7', 'cov500_percent_0.9',\n",
    "       'fwd_e2e_percent_mean', 'fwd_e2e_percent_median', 'fwd_e2e_percent_0.3',\n",
    "       'fwd_e2e_percent_0.5', 'fwd_e2e_percent_0.7', 'fwd_e2e_percent_0.9',\n",
    "       'rev_e2e_percent_mean', 'rev_e2e_percent_median', 'rev_e2e_percent_0.3',\n",
    "       'rev_e2e_percent_0.5', 'rev_e2e_percent_0.7', 'rev_e2e_percent_0.9', 'OPT_percent',\n",
    "       'Frequency_norm_mean', 'Frequency_norm_median', 'Frequency_norm_0.3',\n",
    "       'Frequency_norm_0.5', 'Frequency_norm_0.7', 'Frequency_norm_0.9',\n",
    "       'Quality_norm_mean', 'Quality_norm_median', 'Quality_norm_0.3',\n",
    "       'Quality_norm_0.5', 'Quality_norm_0.7', 'Quality_norm_0.9',\n",
    "       'Coverage_norm_mean', 'Coverage_norm_median', 'Coverage_norm_0.3',\n",
    "       'Coverage_norm_0.5', 'Coverage_norm_0.7', 'Coverage_norm_0.9',\n",
    "       'Allele Cov_norm_mean', 'Allele Cov_norm_median', 'Allele Cov_norm_0.3',\n",
    "       'Allele Cov_norm_0.5', 'Allele Cov_norm_0.7', 'Allele Cov_norm_0.9',\n",
    "       'longueur_norm_mean', 'longueur_norm_median', 'longueur_norm_0.3',\n",
    "       'longueur_norm_0.5', 'longueur_norm_0.7', 'longueur_norm_0.9']].fillna(0)\n",
    "df_output = df_test_global[\"classe\"]"
   ]
  },
  {
   "cell_type": "code",
   "execution_count": 85,
   "metadata": {},
   "outputs": [],
   "source": [
    "df_pca = pd.DataFrame(pca.transform(df_input))"
   ]
  },
  {
   "cell_type": "code",
   "execution_count": 86,
   "metadata": {},
   "outputs": [],
   "source": [
    "pred = clr_RF_PCA.predict(df_pca)"
   ]
  },
  {
   "cell_type": "code",
   "execution_count": 87,
   "metadata": {},
   "outputs": [
    {
     "data": {
      "text/plain": [
       "array([[0.88888889, 0.        , 0.11111111, 0.        ],\n",
       "       [0.        , 0.72727273, 0.27272727, 0.        ],\n",
       "       [0.07843137, 0.05882353, 0.8627451 , 0.        ],\n",
       "       [0.13333333, 0.06666667, 0.        , 0.8       ]])"
      ]
     },
     "execution_count": 87,
     "metadata": {},
     "output_type": "execute_result"
    }
   ],
   "source": [
    "confusion_matrix(df_output, pred, normalize=\"true\", labels=[\"OPT\", \"NC\", \"SOPT\", \"NVA\"])"
   ]
  },
  {
   "cell_type": "code",
   "execution_count": 16,
   "metadata": {},
   "outputs": [
    {
     "data": {
      "text/plain": [
       "<AxesSubplot:xlabel='classe', ylabel='OPT_percent'>"
      ]
     },
     "execution_count": 16,
     "metadata": {},
     "output_type": "execute_result"
    },
    {
     "data": {
      "image/png": "[encoded data removed]",
      "text/plain": [
       "<Figure size 432x288 with 1 Axes>"
      ]
     },
     "metadata": {
      "needs_background": "light"
     },
     "output_type": "display_data"
    }
   ],
   "source": [
    "sns.scatterplot(data= df_test_global, x=\"classe\", y=\"OPT_percent\")"
   ]
  }
 ],
 "metadata": {
  "interpreter": {
   "hash": "ae0c165457b802f0b012063a7cdde1edfba027a28a70c7da628e688424df5479"
  },
  "kernelspec": {
   "display_name": "Python 3.7.11 ('myenv')",
   "language": "python",
   "name": "python3"
  },
  "language_info": {
   "codemirror_mode": {
    "name": "ipython",
    "version": 3
   },
   "file_extension": ".py",
   "mimetype": "text/x-python",
   "name": "python",
   "nbconvert_exporter": "python",
   "pygments_lexer": "ipython3",
   "version": "3.7.11"
  },
  "orig_nbformat": 4
 },
 "nbformat": 4,
 "nbformat_minor": 2
}
