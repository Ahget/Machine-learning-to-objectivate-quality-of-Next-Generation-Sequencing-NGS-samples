{
 "cells": [
  {
   "cell_type": "markdown",
   "metadata": {},
   "source": [
    "Ce script sert à la normalisation des variables brutes des fichiers variant caller."
   ]
  },
  {
   "cell_type": "code",
   "execution_count": 1,
   "metadata": {},
   "outputs": [],
   "source": [
    "import os \n",
    "import pandas as pd\n",
    "import numpy as np\n",
    "import matplotlib.pyplot as plt\n",
    "import seaborn as sns\n",
    "from seaborn_qqplot import pplot\n",
    "import scipy as sp\n",
    "import sklearn.cluster\n",
    "import tqdm\n",
    "from scipy.stats import zscore, kstest, kruskal"
   ]
  },
  {
   "cell_type": "code",
   "execution_count": 2,
   "metadata": {},
   "outputs": [],
   "source": [
    "path = r\"C:\\Users\\ahmed\\MFE project\"    \n",
    "df = pd.read_csv(os.path.join(path, [i for i in os.listdir(path) if i.find(\"Database_tsv\")>-1][0]))"
   ]
  },
  {
   "cell_type": "code",
   "execution_count": 3,
   "metadata": {},
   "outputs": [],
   "source": [
    "df = df.replace(\"NAV\", \"NVA\")\n",
    "df = df.replace(\"nva\", \"NVA\")"
   ]
  },
  {
   "cell_type": "code",
   "execution_count": 4,
   "metadata": {},
   "outputs": [
    {
     "data": {
      "text/plain": [
       "Index(['Unnamed: 0', 'Barcode', 'Sample Name', 'Chrom', 'Position', 'Ref',\n",
       "       'Variant', 'Gene ID', 'Region Name', 'Type', 'Allele Call', 'Genotype',\n",
       "       'Frequency', 'Quality', 'Coverage', 'Allele Cov', 'Allele Name',\n",
       "       'AA_mut_syntax', 'CDS_mut_syntax', 'Allele Source', 'annee', 'type',\n",
       "       'date', 'num', 'classe', 'ordre', 'longueur'],\n",
       "      dtype='object')"
      ]
     },
     "execution_count": 4,
     "metadata": {},
     "output_type": "execute_result"
    }
   ],
   "source": [
    "df.columns"
   ]
  },
  {
   "cell_type": "code",
   "execution_count": 5,
   "metadata": {},
   "outputs": [],
   "source": [
    "var = ['Ref', 'Variant', 'Genotype', \"Frequency\", \"Quality\", \"Coverage\", \"Allele Cov\", \"annee\", \"type\", \"date\", \"num\", \"classe\", \"ordre\", \"longueur\"]\n",
    "df_var = df[var]"
   ]
  },
  {
   "cell_type": "code",
   "execution_count": null,
   "metadata": {},
   "outputs": [],
   "source": [
    "sns.pairplot(data=df_var[[\"Frequency\", \"Quality\", \"Coverage\", \"Allele Cov\", \"classe\", \"longueur\"]], hue = \"classe\")"
   ]
  },
  {
   "cell_type": "code",
   "execution_count": null,
   "metadata": {},
   "outputs": [],
   "source": [
    "corrMatrix = df_var[[\"Frequency\", \"Quality\", \"Coverage\", \"Allele Cov\", \"longueur\"]].corr()\n",
    "sns.heatmap(corrMatrix, annot=True)\n",
    "plt.show()"
   ]
  },
  {
   "cell_type": "markdown",
   "metadata": {},
   "source": [
    "Nous pouvons voir que la variable \"Quality\" est très corrélée avec \"Allele Cov\" et corrélée avec Frequency\"."
   ]
  },
  {
   "cell_type": "code",
   "execution_count": 14,
   "metadata": {},
   "outputs": [
    {
     "data": {
      "text/plain": [
       "<AxesSubplot:xlabel='classe', ylabel='longueur'>"
      ]
     },
     "execution_count": 14,
     "metadata": {},
     "output_type": "execute_result"
    },
    {
     "data": {
      "image/png": "[encoded data removed]",
      "text/plain": [
       "<Figure size 432x288 with 1 Axes>"
      ]
     },
     "metadata": {
      "needs_background": "light"
     },
     "output_type": "display_data"
    }
   ],
   "source": [
    "sns.boxplot(data=df_var, x=\"classe\", y=\"longueur\")"
   ]
  },
  {
   "cell_type": "code",
   "execution_count": 8,
   "metadata": {},
   "outputs": [
    {
     "name": "stderr",
     "output_type": "stream",
     "text": [
      "C:\\Users\\ahmed\\anaconda3\\envs\\myenv\\lib\\site-packages\\ipykernel_launcher.py:1: VisibleDeprecationWarning: Creating an ndarray from ragged nested sequences (which is a list-or-tuple of lists-or-tuples-or ndarrays with different lengths or shapes) is deprecated. If you meant to do this, you must specify 'dtype=object' when creating the ndarray.\n",
      "  \"\"\"Entry point for launching an IPython kernel.\n"
     ]
    },
    {
     "ename": "TypeError",
     "evalue": "'tuple' object is not callable",
     "output_type": "error",
     "traceback": [
      "\u001b[1;31m---------------------------------------------------------------------------\u001b[0m",
      "\u001b[1;31mTypeError\u001b[0m                                 Traceback (most recent call last)",
      "\u001b[1;32m~\\AppData\\Local\\Temp/ipykernel_19512/3557334325.py\u001b[0m in \u001b[0;36m<module>\u001b[1;34m\u001b[0m\n\u001b[1;32m----> 1\u001b[1;33m \u001b[0mnp\u001b[0m\u001b[1;33m.\u001b[0m\u001b[0marray\u001b[0m\u001b[1;33m(\u001b[0m\u001b[1;33m[\u001b[0m\u001b[0mdf_var\u001b[0m\u001b[1;33m[\u001b[0m\u001b[0mdf_var\u001b[0m\u001b[1;33m[\u001b[0m\u001b[1;34m\"ordre\"\u001b[0m\u001b[1;33m]\u001b[0m\u001b[1;33m==\u001b[0m\u001b[0mi\u001b[0m\u001b[1;33m]\u001b[0m\u001b[1;33m[\u001b[0m\u001b[1;34m\"Coverage\"\u001b[0m\u001b[1;33m]\u001b[0m\u001b[1;33m.\u001b[0m\u001b[0mvalues\u001b[0m \u001b[1;32mfor\u001b[0m \u001b[0mi\u001b[0m \u001b[1;32min\u001b[0m \u001b[0mrange\u001b[0m\u001b[1;33m(\u001b[0m\u001b[0mdf_var\u001b[0m\u001b[1;33m[\u001b[0m\u001b[1;34m\"ordre\"\u001b[0m\u001b[1;33m]\u001b[0m\u001b[1;33m.\u001b[0m\u001b[0mvalues\u001b[0m\u001b[1;33m[\u001b[0m\u001b[1;33m-\u001b[0m\u001b[1;36m1\u001b[0m\u001b[1;33m]\u001b[0m\u001b[1;33m)\u001b[0m\u001b[1;33m]\u001b[0m\u001b[1;33m)\u001b[0m\u001b[1;33m.\u001b[0m\u001b[0mshape\u001b[0m\u001b[1;33m(\u001b[0m\u001b[1;33m)\u001b[0m\u001b[1;33m\u001b[0m\u001b[1;33m\u001b[0m\u001b[0m\n\u001b[0m",
      "\u001b[1;31mTypeError\u001b[0m: 'tuple' object is not callable"
     ]
    }
   ],
   "source": [
    "np.array([df_var[df_var[\"ordre\"]==i][\"Coverage\"].values for i in range(df_var[\"ordre\"].values[-1])]).shape()"
   ]
  },
  {
   "cell_type": "code",
   "execution_count": 25,
   "metadata": {},
   "outputs": [],
   "source": [
    "from sklearn.preprocessing import MinMaxScaler\n",
    "\n",
    "scaler = MinMaxScaler()\n",
    "\n",
    "df_norm = scaler.fit_transform(df_var[[\"Frequency\", \"Quality\", \"Coverage\", \"Allele Cov\", \"longueur\"]])\n",
    "df_norm = pd.concat([df_var, pd.DataFrame(df_norm, columns = [\"Frequency_norm\", \"Quality_norm\", \"Coverage_norm\", \"Allele Cov_norm\", \"longueur_norm\"])], axis = 1)\n"
   ]
  },
  {
   "cell_type": "code",
   "execution_count": 29,
   "metadata": {},
   "outputs": [
    {
     "data": {
      "text/plain": [
       "['normalizeMinMax_tsv_saved.joblib']"
      ]
     },
     "execution_count": 29,
     "metadata": {},
     "output_type": "execute_result"
    }
   ],
   "source": [
    "from joblib import dump, load\n",
    "\n",
    "# to save the kmeans model\n",
    "\n",
    "dump(scaler, 'normalizeMinMax_tsv_saved.joblib')"
   ]
  },
  {
   "cell_type": "code",
   "execution_count": 26,
   "metadata": {},
   "outputs": [
    {
     "data": {
      "text/html": [
       "<div>\n",
       "<style scoped>\n",
       "    .dataframe tbody tr th:only-of-type {\n",
       "        vertical-align: middle;\n",
       "    }\n",
       "\n",
       "    .dataframe tbody tr th {\n",
       "        vertical-align: top;\n",
       "    }\n",
       "\n",
       "    .dataframe thead th {\n",
       "        text-align: right;\n",
       "    }\n",
       "</style>\n",
       "<table border=\"1\" class=\"dataframe\">\n",
       "  <thead>\n",
       "    <tr style=\"text-align: right;\">\n",
       "      <th></th>\n",
       "      <th>Ref</th>\n",
       "      <th>Variant</th>\n",
       "      <th>Genotype</th>\n",
       "      <th>Frequency</th>\n",
       "      <th>Quality</th>\n",
       "      <th>Coverage</th>\n",
       "      <th>Allele Cov</th>\n",
       "      <th>annee</th>\n",
       "      <th>type</th>\n",
       "      <th>date</th>\n",
       "      <th>num</th>\n",
       "      <th>classe</th>\n",
       "      <th>ordre</th>\n",
       "      <th>longueur</th>\n",
       "      <th>Frequency_norm</th>\n",
       "      <th>Quality_norm</th>\n",
       "      <th>Coverage_norm</th>\n",
       "      <th>Allele Cov_norm</th>\n",
       "      <th>longueur_norm</th>\n",
       "    </tr>\n",
       "  </thead>\n",
       "  <tbody>\n",
       "    <tr>\n",
       "      <th>0</th>\n",
       "      <td>T</td>\n",
       "      <td>C</td>\n",
       "      <td>T/C</td>\n",
       "      <td>49.4</td>\n",
       "      <td>4330.970</td>\n",
       "      <td>795.0</td>\n",
       "      <td>393.0</td>\n",
       "      <td>2018</td>\n",
       "      <td>NDN</td>\n",
       "      <td>4-12-18</td>\n",
       "      <td>1</td>\n",
       "      <td>OPT</td>\n",
       "      <td>0</td>\n",
       "      <td>5</td>\n",
       "      <td>0.494</td>\n",
       "      <td>0.127363</td>\n",
       "      <td>0.392947</td>\n",
       "      <td>0.1965</td>\n",
       "      <td>0.007968</td>\n",
       "    </tr>\n",
       "    <tr>\n",
       "      <th>1</th>\n",
       "      <td>A</td>\n",
       "      <td>G</td>\n",
       "      <td>A/G</td>\n",
       "      <td>18.8</td>\n",
       "      <td>1213.510</td>\n",
       "      <td>1394.0</td>\n",
       "      <td>262.0</td>\n",
       "      <td>2018</td>\n",
       "      <td>NDN</td>\n",
       "      <td>4-12-18</td>\n",
       "      <td>1</td>\n",
       "      <td>OPT</td>\n",
       "      <td>0</td>\n",
       "      <td>5</td>\n",
       "      <td>0.188</td>\n",
       "      <td>0.035616</td>\n",
       "      <td>0.694710</td>\n",
       "      <td>0.1310</td>\n",
       "      <td>0.007968</td>\n",
       "    </tr>\n",
       "    <tr>\n",
       "      <th>2</th>\n",
       "      <td>G</td>\n",
       "      <td>A</td>\n",
       "      <td>A/A</td>\n",
       "      <td>99.9</td>\n",
       "      <td>33012.700</td>\n",
       "      <td>1958.0</td>\n",
       "      <td>1956.0</td>\n",
       "      <td>2018</td>\n",
       "      <td>NDN</td>\n",
       "      <td>4-12-18</td>\n",
       "      <td>1</td>\n",
       "      <td>OPT</td>\n",
       "      <td>0</td>\n",
       "      <td>5</td>\n",
       "      <td>0.999</td>\n",
       "      <td>0.971465</td>\n",
       "      <td>0.978841</td>\n",
       "      <td>0.9780</td>\n",
       "      <td>0.007968</td>\n",
       "    </tr>\n",
       "    <tr>\n",
       "      <th>3</th>\n",
       "      <td>C</td>\n",
       "      <td>T</td>\n",
       "      <td>C/T</td>\n",
       "      <td>3.6</td>\n",
       "      <td>147.052</td>\n",
       "      <td>1186.0</td>\n",
       "      <td>43.0</td>\n",
       "      <td>2018</td>\n",
       "      <td>NDN</td>\n",
       "      <td>4-12-18</td>\n",
       "      <td>1</td>\n",
       "      <td>OPT</td>\n",
       "      <td>0</td>\n",
       "      <td>5</td>\n",
       "      <td>0.036</td>\n",
       "      <td>0.004230</td>\n",
       "      <td>0.589924</td>\n",
       "      <td>0.0215</td>\n",
       "      <td>0.007968</td>\n",
       "    </tr>\n",
       "    <tr>\n",
       "      <th>4</th>\n",
       "      <td>G</td>\n",
       "      <td>C</td>\n",
       "      <td>G/C</td>\n",
       "      <td>48.8</td>\n",
       "      <td>4628.400</td>\n",
       "      <td>873.0</td>\n",
       "      <td>426.0</td>\n",
       "      <td>2018</td>\n",
       "      <td>NDN</td>\n",
       "      <td>4-12-18</td>\n",
       "      <td>1</td>\n",
       "      <td>OPT</td>\n",
       "      <td>0</td>\n",
       "      <td>5</td>\n",
       "      <td>0.488</td>\n",
       "      <td>0.136116</td>\n",
       "      <td>0.432242</td>\n",
       "      <td>0.2130</td>\n",
       "      <td>0.007968</td>\n",
       "    </tr>\n",
       "    <tr>\n",
       "      <th>...</th>\n",
       "      <td>...</td>\n",
       "      <td>...</td>\n",
       "      <td>...</td>\n",
       "      <td>...</td>\n",
       "      <td>...</td>\n",
       "      <td>...</td>\n",
       "      <td>...</td>\n",
       "      <td>...</td>\n",
       "      <td>...</td>\n",
       "      <td>...</td>\n",
       "      <td>...</td>\n",
       "      <td>...</td>\n",
       "      <td>...</td>\n",
       "      <td>...</td>\n",
       "      <td>...</td>\n",
       "      <td>...</td>\n",
       "      <td>...</td>\n",
       "      <td>...</td>\n",
       "      <td>...</td>\n",
       "    </tr>\n",
       "    <tr>\n",
       "      <th>15374</th>\n",
       "      <td>C</td>\n",
       "      <td>T</td>\n",
       "      <td>C/T</td>\n",
       "      <td>89.2</td>\n",
       "      <td>9310.870</td>\n",
       "      <td>776.0</td>\n",
       "      <td>692.0</td>\n",
       "      <td>2021</td>\n",
       "      <td>OBL</td>\n",
       "      <td>23-03-21</td>\n",
       "      <td>2</td>\n",
       "      <td>SOPT</td>\n",
       "      <td>607</td>\n",
       "      <td>7</td>\n",
       "      <td>0.892</td>\n",
       "      <td>0.273921</td>\n",
       "      <td>0.383375</td>\n",
       "      <td>0.3460</td>\n",
       "      <td>0.011952</td>\n",
       "    </tr>\n",
       "    <tr>\n",
       "      <th>15375</th>\n",
       "      <td>C</td>\n",
       "      <td>T</td>\n",
       "      <td>T/T</td>\n",
       "      <td>99.3</td>\n",
       "      <td>9653.720</td>\n",
       "      <td>582.0</td>\n",
       "      <td>578.0</td>\n",
       "      <td>2021</td>\n",
       "      <td>OBL</td>\n",
       "      <td>23-03-21</td>\n",
       "      <td>2</td>\n",
       "      <td>SOPT</td>\n",
       "      <td>607</td>\n",
       "      <td>7</td>\n",
       "      <td>0.993</td>\n",
       "      <td>0.284011</td>\n",
       "      <td>0.285642</td>\n",
       "      <td>0.2890</td>\n",
       "      <td>0.011952</td>\n",
       "    </tr>\n",
       "    <tr>\n",
       "      <th>15376</th>\n",
       "      <td>G</td>\n",
       "      <td>C</td>\n",
       "      <td>G/C</td>\n",
       "      <td>97.5</td>\n",
       "      <td>31215.100</td>\n",
       "      <td>1937.0</td>\n",
       "      <td>1888.0</td>\n",
       "      <td>2021</td>\n",
       "      <td>OBL</td>\n",
       "      <td>23-03-21</td>\n",
       "      <td>2</td>\n",
       "      <td>SOPT</td>\n",
       "      <td>607</td>\n",
       "      <td>7</td>\n",
       "      <td>0.975</td>\n",
       "      <td>0.918561</td>\n",
       "      <td>0.968262</td>\n",
       "      <td>0.9440</td>\n",
       "      <td>0.011952</td>\n",
       "    </tr>\n",
       "    <tr>\n",
       "      <th>15377</th>\n",
       "      <td>CCCCAGCCCTCCAGGT</td>\n",
       "      <td>-</td>\n",
       "      <td>-/-</td>\n",
       "      <td>100.0</td>\n",
       "      <td>19775.800</td>\n",
       "      <td>1177.0</td>\n",
       "      <td>1177.0</td>\n",
       "      <td>2021</td>\n",
       "      <td>OBL</td>\n",
       "      <td>23-03-21</td>\n",
       "      <td>2</td>\n",
       "      <td>SOPT</td>\n",
       "      <td>607</td>\n",
       "      <td>7</td>\n",
       "      <td>1.000</td>\n",
       "      <td>0.581903</td>\n",
       "      <td>0.585390</td>\n",
       "      <td>0.5885</td>\n",
       "      <td>0.011952</td>\n",
       "    </tr>\n",
       "    <tr>\n",
       "      <th>15378</th>\n",
       "      <td>G</td>\n",
       "      <td>C</td>\n",
       "      <td>C/C</td>\n",
       "      <td>99.3</td>\n",
       "      <td>16338.000</td>\n",
       "      <td>982.0</td>\n",
       "      <td>975.0</td>\n",
       "      <td>2021</td>\n",
       "      <td>OBL</td>\n",
       "      <td>23-03-21</td>\n",
       "      <td>2</td>\n",
       "      <td>SOPT</td>\n",
       "      <td>607</td>\n",
       "      <td>7</td>\n",
       "      <td>0.993</td>\n",
       "      <td>0.480729</td>\n",
       "      <td>0.487154</td>\n",
       "      <td>0.4875</td>\n",
       "      <td>0.011952</td>\n",
       "    </tr>\n",
       "  </tbody>\n",
       "</table>\n",
       "<p>15379 rows × 19 columns</p>\n",
       "</div>"
      ],
      "text/plain": [
       "                    Ref Variant Genotype  Frequency    Quality  Coverage  \\\n",
       "0                     T       C      T/C       49.4   4330.970     795.0   \n",
       "1                     A       G      A/G       18.8   1213.510    1394.0   \n",
       "2                     G       A      A/A       99.9  33012.700    1958.0   \n",
       "3                     C       T      C/T        3.6    147.052    1186.0   \n",
       "4                     G       C      G/C       48.8   4628.400     873.0   \n",
       "...                 ...     ...      ...        ...        ...       ...   \n",
       "15374                 C       T      C/T       89.2   9310.870     776.0   \n",
       "15375                 C       T      T/T       99.3   9653.720     582.0   \n",
       "15376                 G       C      G/C       97.5  31215.100    1937.0   \n",
       "15377  CCCCAGCCCTCCAGGT       -      -/-      100.0  19775.800    1177.0   \n",
       "15378                 G       C      C/C       99.3  16338.000     982.0   \n",
       "\n",
       "       Allele Cov  annee type      date  num classe  ordre  longueur  \\\n",
       "0           393.0   2018  NDN   4-12-18    1    OPT      0         5   \n",
       "1           262.0   2018  NDN   4-12-18    1    OPT      0         5   \n",
       "2          1956.0   2018  NDN   4-12-18    1    OPT      0         5   \n",
       "3            43.0   2018  NDN   4-12-18    1    OPT      0         5   \n",
       "4           426.0   2018  NDN   4-12-18    1    OPT      0         5   \n",
       "...           ...    ...  ...       ...  ...    ...    ...       ...   \n",
       "15374       692.0   2021  OBL  23-03-21    2   SOPT    607         7   \n",
       "15375       578.0   2021  OBL  23-03-21    2   SOPT    607         7   \n",
       "15376      1888.0   2021  OBL  23-03-21    2   SOPT    607         7   \n",
       "15377      1177.0   2021  OBL  23-03-21    2   SOPT    607         7   \n",
       "15378       975.0   2021  OBL  23-03-21    2   SOPT    607         7   \n",
       "\n",
       "       Frequency_norm  Quality_norm  Coverage_norm  Allele Cov_norm  \\\n",
       "0               0.494      0.127363       0.392947           0.1965   \n",
       "1               0.188      0.035616       0.694710           0.1310   \n",
       "2               0.999      0.971465       0.978841           0.9780   \n",
       "3               0.036      0.004230       0.589924           0.0215   \n",
       "4               0.488      0.136116       0.432242           0.2130   \n",
       "...               ...           ...            ...              ...   \n",
       "15374           0.892      0.273921       0.383375           0.3460   \n",
       "15375           0.993      0.284011       0.285642           0.2890   \n",
       "15376           0.975      0.918561       0.968262           0.9440   \n",
       "15377           1.000      0.581903       0.585390           0.5885   \n",
       "15378           0.993      0.480729       0.487154           0.4875   \n",
       "\n",
       "       longueur_norm  \n",
       "0           0.007968  \n",
       "1           0.007968  \n",
       "2           0.007968  \n",
       "3           0.007968  \n",
       "4           0.007968  \n",
       "...              ...  \n",
       "15374       0.011952  \n",
       "15375       0.011952  \n",
       "15376       0.011952  \n",
       "15377       0.011952  \n",
       "15378       0.011952  \n",
       "\n",
       "[15379 rows x 19 columns]"
      ]
     },
     "execution_count": 26,
     "metadata": {},
     "output_type": "execute_result"
    }
   ],
   "source": [
    "df_norm"
   ]
  },
  {
   "cell_type": "code",
   "execution_count": 28,
   "metadata": {},
   "outputs": [],
   "source": [
    "# df_norm.to_csv(\"DataBase_Norm_tsv.csv\")"
   ]
  }
 ],
 "metadata": {
  "interpreter": {
   "hash": "ae0c165457b802f0b012063a7cdde1edfba027a28a70c7da628e688424df5479"
  },
  "kernelspec": {
   "display_name": "Python 3.7.11 64-bit ('myenv': conda)",
   "language": "python",
   "name": "python3"
  },
  "language_info": {
   "codemirror_mode": {
    "name": "ipython",
    "version": 3
   },
   "file_extension": ".py",
   "mimetype": "text/x-python",
   "name": "python",
   "nbconvert_exporter": "python",
   "pygments_lexer": "ipython3",
   "version": "3.7.11"
  },
  "orig_nbformat": 4
 },
 "nbformat": 4,
 "nbformat_minor": 2
}
